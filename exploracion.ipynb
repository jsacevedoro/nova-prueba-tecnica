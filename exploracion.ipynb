{
 "cells": [
  {
   "attachments": {},
   "cell_type": "markdown",
   "metadata": {},
   "source": [
    "# Análisis exploratorio de datos \n",
    "### Contenido\n",
    "1. [Introducción](#introducción)\n",
    "2. [Librearías e importación de datos](#librerías-e-importación-de-datos)\n",
    "3. [Tabla clientes](#tabla-clientes)\n",
    "4. [Tabla transacciones](#tabla-transacciones)\n",
    "5. [Variable objetivo](#variable-objetivo)\n",
    "5. [Resumen](#Resumen)"
   ]
  },
  {
   "attachments": {},
   "cell_type": "markdown",
   "metadata": {},
   "source": [
    "# Introducción"
   ]
  },
  {
   "attachments": {},
   "cell_type": "markdown",
   "metadata": {},
   "source": [
    "En este notebook realizamos un análisis exploratorio de los datos brindados para construir el modelo pedictivo de impagos de tarjetas de crédito. \n",
    "\n",
    "Para cada campo de las tablas de *clientes* y *transacciones* se analizan características como: \n",
    "- El tipo de variable, si es nominal, ordinal, contínua, etc. \n",
    "- La consistencia e inconsistencia de los datos.\n",
    "- Valores faltantes y valores atípicos.\n",
    "- Para los campos numericos se hallan medidas estadísticas básicas como distribución, rango, media, etc. \n",
    "- Para los campos cualitativos se realizan conteos básicos.\n",
    "\n",
    "Al final, se presenta un resúmen con los hallazgos más significativos."
   ]
  },
  {
   "attachments": {},
   "cell_type": "markdown",
   "metadata": {},
   "source": [
    "# Librerías e importación de datos"
   ]
  },
  {
   "cell_type": "code",
   "execution_count": 1,
   "metadata": {},
   "outputs": [],
   "source": [
    "# Importar librerías y funciones\n",
    "import pandas as pd \n",
    "import matplotlib.pyplot as plt\n",
    "import seaborn as sns\n",
    "\n",
    "# Funciones provenientes de otro módulo\n",
    "from utils import dar_estilo_visual, grafico_distribucion"
   ]
  },
  {
   "cell_type": "code",
   "execution_count": 2,
   "metadata": {},
   "outputs": [],
   "source": [
    "# Configurar parámetros globales de matplotlib y seaborn \n",
    "dar_estilo_visual()"
   ]
  },
  {
   "cell_type": "code",
   "execution_count": 66,
   "metadata": {},
   "outputs": [],
   "source": [
    "# Cargar datos\n",
    "transacciones = pd.read_csv(\"data/historial_transacciones.csv\", delimiter=\"|\")\n",
    "clientes = pd.read_csv(\"data/informacion_clientes.csv\", delimiter=\"|\")\n",
    "etiquetas = pd.read_csv(\"data/etiquetas.csv\", delimiter=\"|\")"
   ]
  },
  {
   "attachments": {},
   "cell_type": "markdown",
   "metadata": {},
   "source": [
    "# Tabla clientes"
   ]
  },
  {
   "cell_type": "code",
   "execution_count": 4,
   "metadata": {},
   "outputs": [
    {
     "data": {
      "text/html": [
       "<div>\n",
       "<style scoped>\n",
       "    .dataframe tbody tr th:only-of-type {\n",
       "        vertical-align: middle;\n",
       "    }\n",
       "\n",
       "    .dataframe tbody tr th {\n",
       "        vertical-align: top;\n",
       "    }\n",
       "\n",
       "    .dataframe thead th {\n",
       "        text-align: right;\n",
       "    }\n",
       "</style>\n",
       "<table border=\"1\" class=\"dataframe\">\n",
       "  <thead>\n",
       "    <tr style=\"text-align: right;\">\n",
       "      <th></th>\n",
       "      <th>CLIENT_ID</th>\n",
       "      <th>Cupo_TC</th>\n",
       "      <th>SEX</th>\n",
       "      <th>EDUCATION</th>\n",
       "      <th>MARRIAGE</th>\n",
       "      <th>AGE</th>\n",
       "    </tr>\n",
       "  </thead>\n",
       "  <tbody>\n",
       "    <tr>\n",
       "      <th>0</th>\n",
       "      <td>29c55f5f-0da7-43ec-ba1b-b60592689825</td>\n",
       "      <td>270000</td>\n",
       "      <td>Femenino</td>\n",
       "      <td>universidad</td>\n",
       "      <td>Casado</td>\n",
       "      <td>28</td>\n",
       "    </tr>\n",
       "    <tr>\n",
       "      <th>1</th>\n",
       "      <td>f818136a-138f-4578-a0bb-41605b67e0e5</td>\n",
       "      <td>80000</td>\n",
       "      <td>Femenino</td>\n",
       "      <td>colegio</td>\n",
       "      <td>soltero_a</td>\n",
       "      <td>52</td>\n",
       "    </tr>\n",
       "    <tr>\n",
       "      <th>2</th>\n",
       "      <td>bef609a9-f9c5-4870-be7f-cb20e70f7e92</td>\n",
       "      <td>210000</td>\n",
       "      <td>Femenino</td>\n",
       "      <td>universidad</td>\n",
       "      <td>Casado</td>\n",
       "      <td>36</td>\n",
       "    </tr>\n",
       "    <tr>\n",
       "      <th>3</th>\n",
       "      <td>2ba3a218-4792-4672-82c7-4b0953101d41</td>\n",
       "      <td>230000</td>\n",
       "      <td>Femenino</td>\n",
       "      <td>colegio</td>\n",
       "      <td>Casado</td>\n",
       "      <td>44</td>\n",
       "    </tr>\n",
       "    <tr>\n",
       "      <th>4</th>\n",
       "      <td>723e61b4-d151-4368-b129-468417fd930c</td>\n",
       "      <td>130000</td>\n",
       "      <td>Femenino</td>\n",
       "      <td>Posgrado</td>\n",
       "      <td>Casado</td>\n",
       "      <td>36</td>\n",
       "    </tr>\n",
       "  </tbody>\n",
       "</table>\n",
       "</div>"
      ],
      "text/plain": [
       "                              CLIENT_ID  Cupo_TC       SEX    EDUCATION  \\\n",
       "0  29c55f5f-0da7-43ec-ba1b-b60592689825   270000  Femenino  universidad   \n",
       "1  f818136a-138f-4578-a0bb-41605b67e0e5    80000  Femenino      colegio   \n",
       "2  bef609a9-f9c5-4870-be7f-cb20e70f7e92   210000  Femenino  universidad   \n",
       "3  2ba3a218-4792-4672-82c7-4b0953101d41   230000  Femenino      colegio   \n",
       "4  723e61b4-d151-4368-b129-468417fd930c   130000  Femenino     Posgrado   \n",
       "\n",
       "    MARRIAGE  AGE  \n",
       "0     Casado   28  \n",
       "1  soltero_a   52  \n",
       "2     Casado   36  \n",
       "3     Casado   44  \n",
       "4     Casado   36  "
      ]
     },
     "execution_count": 4,
     "metadata": {},
     "output_type": "execute_result"
    }
   ],
   "source": [
    "clientes.head()"
   ]
  },
  {
   "cell_type": "code",
   "execution_count": 5,
   "metadata": {},
   "outputs": [
    {
     "name": "stdout",
     "output_type": "stream",
     "text": [
      "La tabla contiene 24000 registros y 6 columnas\n"
     ]
    }
   ],
   "source": [
    "print(f\"La tabla contiene {clientes.shape[0]} registros y {clientes.shape[1]} columnas\")"
   ]
  },
  {
   "cell_type": "code",
   "execution_count": 6,
   "metadata": {},
   "outputs": [
    {
     "name": "stdout",
     "output_type": "stream",
     "text": [
      "<class 'pandas.core.frame.DataFrame'>\n",
      "RangeIndex: 24000 entries, 0 to 23999\n",
      "Data columns (total 6 columns):\n",
      " #   Column     Non-Null Count  Dtype \n",
      "---  ------     --------------  ----- \n",
      " 0   CLIENT_ID  24000 non-null  object\n",
      " 1   Cupo_TC    24000 non-null  int64 \n",
      " 2   SEX        24000 non-null  object\n",
      " 3   EDUCATION  24000 non-null  object\n",
      " 4   MARRIAGE   24000 non-null  object\n",
      " 5   AGE        24000 non-null  int64 \n",
      "dtypes: int64(2), object(4)\n",
      "memory usage: 1.1+ MB\n"
     ]
    }
   ],
   "source": [
    "clientes.info()"
   ]
  },
  {
   "cell_type": "code",
   "execution_count": 7,
   "metadata": {},
   "outputs": [
    {
     "data": {
      "text/plain": [
       "24000"
      ]
     },
     "execution_count": 7,
     "metadata": {},
     "output_type": "execute_result"
    }
   ],
   "source": [
    "# Verificar si la columna CLIENT_ID no presenta valores repetidos\n",
    "clientes[\"CLIENT_ID\"].nunique()"
   ]
  },
  {
   "attachments": {},
   "cell_type": "markdown",
   "metadata": {},
   "source": [
    "La tabla Clientes presenta información socio demográfica de los clientes en cuestión, posee 24 mil registros y los siguientes campos:\n",
    "- **CLIENT_ID:** Identificador único para cada cliente.\n",
    "- **Cupo_TC:** Cupo fijo original de la tarjeta de crédito. \n",
    "- **SEX:** Sexo biológico. \n",
    "- **EDUCATION:** Nivel educativo \n",
    "- **MARRIAGE:** Estado civil\n",
    "- **AGE:** Edad\n",
    "\n",
    "Adicionalmente, no se presentan missing values en ningún campo."
   ]
  },
  {
   "attachments": {},
   "cell_type": "markdown",
   "metadata": {},
   "source": [
    "### Cupo tarjeta de crédito"
   ]
  },
  {
   "cell_type": "code",
   "execution_count": 8,
   "metadata": {},
   "outputs": [
    {
     "data": {
      "text/plain": [
       "count     24000.000000\n",
       "mean     167828.736667\n",
       "std      129957.242751\n",
       "min       10000.000000\n",
       "25%       50000.000000\n",
       "50%      140000.000000\n",
       "75%      240000.000000\n",
       "max      800000.000000\n",
       "Name: Cupo_TC, dtype: float64"
      ]
     },
     "execution_count": 8,
     "metadata": {},
     "output_type": "execute_result"
    }
   ],
   "source": [
    "# Medidas estadísticas básicas\n",
    "clientes[\"Cupo_TC\"].describe()"
   ]
  },
  {
   "cell_type": "code",
   "execution_count": 9,
   "metadata": {},
   "outputs": [
    {
     "data": {
      "image/png": "[encoded data removed]",
      "text/plain": [
       "<Figure size 900x500 with 2 Axes>"
      ]
     },
     "metadata": {},
     "output_type": "display_data"
    }
   ],
   "source": [
    "# Graficar un histograma y boxplot para conocer la distribución de la variable\n",
    "fig, ax = grafico_distribucion(clientes[\"Cupo_TC\"])\n",
    "plt.xlabel(\"\\nCupo tarjeta de crédito\")\n",
    "fig.suptitle(\"Distribución de Cupo tarjeta de crédito\")\n",
    "plt.show()"
   ]
  },
  {
   "attachments": {},
   "cell_type": "markdown",
   "metadata": {},
   "source": [
    "Observamos la variable Cupo_TC es numérica con valores enteros, tiene una distribución de probabilidad sesgada a la izquierda, presenta un rango de $790.000 y no contiene datos inconsistentes."
   ]
  },
  {
   "attachments": {},
   "cell_type": "markdown",
   "metadata": {},
   "source": [
    "### Sexo biológico"
   ]
  },
  {
   "cell_type": "code",
   "execution_count": 10,
   "metadata": {},
   "outputs": [
    {
     "data": {
      "text/html": [
       "<style type=\"text/css\">\n",
       "</style>\n",
       "<table id=\"T_a28b4\">\n",
       "  <thead>\n",
       "    <tr>\n",
       "      <th class=\"blank level0\" >&nbsp;</th>\n",
       "      <th id=\"T_a28b4_level0_col0\" class=\"col_heading level0 col0\" >Cantidad</th>\n",
       "      <th id=\"T_a28b4_level0_col1\" class=\"col_heading level0 col1\" >Proporción</th>\n",
       "    </tr>\n",
       "    <tr>\n",
       "      <th class=\"index_name level0\" >SEX</th>\n",
       "      <th class=\"blank col0\" >&nbsp;</th>\n",
       "      <th class=\"blank col1\" >&nbsp;</th>\n",
       "    </tr>\n",
       "  </thead>\n",
       "  <tbody>\n",
       "    <tr>\n",
       "      <th id=\"T_a28b4_level0_row0\" class=\"row_heading level0 row0\" >Femenino</th>\n",
       "      <td id=\"T_a28b4_row0_col0\" class=\"data row0 col0\" >14507</td>\n",
       "      <td id=\"T_a28b4_row0_col1\" class=\"data row0 col1\" >60.45%</td>\n",
       "    </tr>\n",
       "    <tr>\n",
       "      <th id=\"T_a28b4_level0_row1\" class=\"row_heading level0 row1\" >Masculino</th>\n",
       "      <td id=\"T_a28b4_row1_col0\" class=\"data row1 col0\" >9493</td>\n",
       "      <td id=\"T_a28b4_row1_col1\" class=\"data row1 col1\" >39.55%</td>\n",
       "    </tr>\n",
       "  </tbody>\n",
       "</table>\n"
      ],
      "text/plain": [
       "<pandas.io.formats.style.Styler at 0x1e111b86990>"
      ]
     },
     "execution_count": 10,
     "metadata": {},
     "output_type": "execute_result"
    }
   ],
   "source": [
    "# Calcular el porcentaje de cada categoría \n",
    "sex_summary = clientes.groupby(\"SEX\").count()[\"CLIENT_ID\"]\n",
    "share = sex_summary / sex_summary.sum()\n",
    "sex_summary = pd.concat([sex_summary, share], axis=1)\n",
    "sex_summary.columns = [\"Cantidad\", \"Proporción\"]\n",
    "sex_summary.style.format({\"Proporción\": '{:,.2%}'.format})"
   ]
  },
  {
   "attachments": {},
   "cell_type": "markdown",
   "metadata": {},
   "source": [
    "El campo SEX es una variable nominal binaria cuyos valores son *Masculino* y *Femenino*. No presenta ningún dato inconsistente. Aproximadamente el 60% de la muestra son mujeres y el 40% son hombres."
   ]
  },
  {
   "attachments": {},
   "cell_type": "markdown",
   "metadata": {},
   "source": [
    "### Nivel de escolaridad"
   ]
  },
  {
   "cell_type": "code",
   "execution_count": 11,
   "metadata": {},
   "outputs": [
    {
     "data": {
      "text/plain": [
       "EDUCATION\n",
       "universidad    11151\n",
       "Posgrado        8493\n",
       "colegio         3967\n",
       "5                230\n",
       "otro             107\n",
       "6                 41\n",
       "0                 11\n",
       "Name: count, dtype: int64"
      ]
     },
     "execution_count": 11,
     "metadata": {},
     "output_type": "execute_result"
    }
   ],
   "source": [
    "# Categorías y número de clientes por categoría\n",
    "clientes.EDUCATION.value_counts()"
   ]
  },
  {
   "attachments": {},
   "cell_type": "markdown",
   "metadata": {},
   "source": [
    "Consideramos que hay datos inconsistentes, ya que los valores $0$, $5$ y $6$ no tienen coherencia con el campo"
   ]
  },
  {
   "cell_type": "code",
   "execution_count": 12,
   "metadata": {},
   "outputs": [
    {
     "data": {
      "text/html": [
       "<style type=\"text/css\">\n",
       "</style>\n",
       "<table id=\"T_dbbbe\">\n",
       "  <thead>\n",
       "    <tr>\n",
       "      <th class=\"blank level0\" >&nbsp;</th>\n",
       "      <th id=\"T_dbbbe_level0_col0\" class=\"col_heading level0 col0\" >Cantidad</th>\n",
       "      <th id=\"T_dbbbe_level0_col1\" class=\"col_heading level0 col1\" >Proporción</th>\n",
       "    </tr>\n",
       "    <tr>\n",
       "      <th class=\"index_name level0\" >EDUCATION</th>\n",
       "      <th class=\"blank col0\" >&nbsp;</th>\n",
       "      <th class=\"blank col1\" >&nbsp;</th>\n",
       "    </tr>\n",
       "  </thead>\n",
       "  <tbody>\n",
       "    <tr>\n",
       "      <th id=\"T_dbbbe_level0_row0\" class=\"row_heading level0 row0\" >0</th>\n",
       "      <td id=\"T_dbbbe_row0_col0\" class=\"data row0 col0\" >11</td>\n",
       "      <td id=\"T_dbbbe_row0_col1\" class=\"data row0 col1\" >0.05%</td>\n",
       "    </tr>\n",
       "    <tr>\n",
       "      <th id=\"T_dbbbe_level0_row1\" class=\"row_heading level0 row1\" >5</th>\n",
       "      <td id=\"T_dbbbe_row1_col0\" class=\"data row1 col0\" >230</td>\n",
       "      <td id=\"T_dbbbe_row1_col1\" class=\"data row1 col1\" >0.96%</td>\n",
       "    </tr>\n",
       "    <tr>\n",
       "      <th id=\"T_dbbbe_level0_row2\" class=\"row_heading level0 row2\" >6</th>\n",
       "      <td id=\"T_dbbbe_row2_col0\" class=\"data row2 col0\" >41</td>\n",
       "      <td id=\"T_dbbbe_row2_col1\" class=\"data row2 col1\" >0.17%</td>\n",
       "    </tr>\n",
       "    <tr>\n",
       "      <th id=\"T_dbbbe_level0_row3\" class=\"row_heading level0 row3\" >Posgrado</th>\n",
       "      <td id=\"T_dbbbe_row3_col0\" class=\"data row3 col0\" >8493</td>\n",
       "      <td id=\"T_dbbbe_row3_col1\" class=\"data row3 col1\" >35.39%</td>\n",
       "    </tr>\n",
       "    <tr>\n",
       "      <th id=\"T_dbbbe_level0_row4\" class=\"row_heading level0 row4\" >colegio</th>\n",
       "      <td id=\"T_dbbbe_row4_col0\" class=\"data row4 col0\" >3967</td>\n",
       "      <td id=\"T_dbbbe_row4_col1\" class=\"data row4 col1\" >16.53%</td>\n",
       "    </tr>\n",
       "    <tr>\n",
       "      <th id=\"T_dbbbe_level0_row5\" class=\"row_heading level0 row5\" >otro</th>\n",
       "      <td id=\"T_dbbbe_row5_col0\" class=\"data row5 col0\" >107</td>\n",
       "      <td id=\"T_dbbbe_row5_col1\" class=\"data row5 col1\" >0.45%</td>\n",
       "    </tr>\n",
       "    <tr>\n",
       "      <th id=\"T_dbbbe_level0_row6\" class=\"row_heading level0 row6\" >universidad</th>\n",
       "      <td id=\"T_dbbbe_row6_col0\" class=\"data row6 col0\" >11151</td>\n",
       "      <td id=\"T_dbbbe_row6_col1\" class=\"data row6 col1\" >46.46%</td>\n",
       "    </tr>\n",
       "  </tbody>\n",
       "</table>\n"
      ],
      "text/plain": [
       "<pandas.io.formats.style.Styler at 0x1e1231c2550>"
      ]
     },
     "execution_count": 12,
     "metadata": {},
     "output_type": "execute_result"
    }
   ],
   "source": [
    "# Calcular el porcentaje de cada categoría \n",
    "ed_summary = clientes.groupby(\"EDUCATION\").count()[\"CLIENT_ID\"]\n",
    "share = ed_summary / ed_summary.sum()\n",
    "ed_summary = pd.concat([ed_summary, share], axis=1)\n",
    "ed_summary.columns = [\"Cantidad\", \"Proporción\"]\n",
    "ed_summary.style.format({\"Proporción\": '{:,.2%}'.format})"
   ]
  },
  {
   "cell_type": "code",
   "execution_count": 13,
   "metadata": {},
   "outputs": [
    {
     "name": "stdout",
     "output_type": "stream",
     "text": [
      "Hay 282 datos inconsistentes en la columna EDUCATION lo que representa el 1.18%\n"
     ]
    }
   ],
   "source": [
    "# Calcular porcentaje de datos inonsistentes\n",
    "num_inconsistentes = len(clientes.query('EDUCATION in [\"0\",\"5\",\"6\"]'))\n",
    "prop_inconsistentes = num_inconsistentes / len(clientes)\n",
    "print('Hay {} datos inconsistentes en la columna EDUCATION lo que representa el {:.2%}'.format(num_inconsistentes, prop_inconsistentes))"
   ]
  },
  {
   "attachments": {},
   "cell_type": "markdown",
   "metadata": {},
   "source": [
    "Puesto que la cantidad de datos inconsistentes es solo del 1.18% , para el modelo predictivo eliminaremos estos registros.\n",
    "\n",
    "La variable EDUCATION es una columna categórica nominal cuyas categorías son *colegio*, *universidad*, *posgrado* y *otro*\n",
    "\n"
   ]
  },
  {
   "attachments": {},
   "cell_type": "markdown",
   "metadata": {},
   "source": [
    "### Estado civil"
   ]
  },
  {
   "cell_type": "code",
   "execution_count": 14,
   "metadata": {},
   "outputs": [
    {
     "data": {
      "text/plain": [
       "MARRIAGE\n",
       "soltero_a    12752\n",
       "Casado       10954\n",
       "otro           245\n",
       "0               49\n",
       "Name: count, dtype: int64"
      ]
     },
     "execution_count": 14,
     "metadata": {},
     "output_type": "execute_result"
    }
   ],
   "source": [
    "# Categorías y número de clientes por categoría\n",
    "clientes.MARRIAGE.value_counts()"
   ]
  },
  {
   "attachments": {},
   "cell_type": "markdown",
   "metadata": {},
   "source": [
    "Observamos que hay 49 datos inconsistes en esta columna cuyo valor es $0$. Puesto que se trata de un porcentaje muy bajo de la muestra, prescindiremos de estos registros para la construcción del modelo predictivo.\n",
    "\n",
    "La columna MARRIAGE representa una variable nominal cuyas categorías son *solotero_a*, *Casado* y *otro*"
   ]
  },
  {
   "attachments": {},
   "cell_type": "markdown",
   "metadata": {},
   "source": [
    "### Edad"
   ]
  },
  {
   "cell_type": "code",
   "execution_count": 15,
   "metadata": {},
   "outputs": [
    {
     "data": {
      "text/plain": [
       "count    24000.000000\n",
       "mean        35.477542\n",
       "std          9.210014\n",
       "min         21.000000\n",
       "25%         28.000000\n",
       "50%         34.000000\n",
       "75%         41.000000\n",
       "max         79.000000\n",
       "Name: AGE, dtype: float64"
      ]
     },
     "execution_count": 15,
     "metadata": {},
     "output_type": "execute_result"
    }
   ],
   "source": [
    "# Medidas estadísticas básicas\n",
    "clientes.AGE.describe()"
   ]
  },
  {
   "cell_type": "code",
   "execution_count": 16,
   "metadata": {},
   "outputs": [
    {
     "data": {
      "image/png": "[encoded data removed]",
      "text/plain": [
       "<Figure size 900x500 with 2 Axes>"
      ]
     },
     "metadata": {},
     "output_type": "display_data"
    }
   ],
   "source": [
    "# Graficar un histograma y boxplot para conocer la distribución de la variable\n",
    "fig, ax = grafico_distribucion(clientes[\"AGE\"])\n",
    "plt.xlabel(\"\\nEdad\")\n",
    "fig.suptitle(\"Distribución de la edad de los clientes\")\n",
    "plt.show()"
   ]
  },
  {
   "attachments": {},
   "cell_type": "markdown",
   "metadata": {},
   "source": [
    "Observamos que la columna AGE representa una variable numérica con valores enteros, cuya distribución es sesgada a la izquierda. Los clientes presentan un rango de edad entre 21 y 79 años, aunque la mayoría de clientes se encuentran entre los 25 y 45 años de edad. La columna no presenta datos inconsistentes."
   ]
  },
  {
   "cell_type": "code",
   "execution_count": null,
   "metadata": {},
   "outputs": [],
   "source": []
  },
  {
   "attachments": {},
   "cell_type": "markdown",
   "metadata": {},
   "source": [
    "# Tabla transacciones"
   ]
  },
  {
   "cell_type": "code",
   "execution_count": 17,
   "metadata": {},
   "outputs": [
    {
     "data": {
      "text/html": [
       "<div>\n",
       "<style scoped>\n",
       "    .dataframe tbody tr th:only-of-type {\n",
       "        vertical-align: middle;\n",
       "    }\n",
       "\n",
       "    .dataframe tbody tr th {\n",
       "        vertical-align: top;\n",
       "    }\n",
       "\n",
       "    .dataframe thead th {\n",
       "        text-align: right;\n",
       "    }\n",
       "</style>\n",
       "<table border=\"1\" class=\"dataframe\">\n",
       "  <thead>\n",
       "    <tr style=\"text-align: right;\">\n",
       "      <th></th>\n",
       "      <th>MONTH</th>\n",
       "      <th>CLIENT_ID</th>\n",
       "      <th>RETRASO_PAGO_ESTADO</th>\n",
       "      <th>DEUDA_MES</th>\n",
       "      <th>PAGO_MES</th>\n",
       "    </tr>\n",
       "  </thead>\n",
       "  <tbody>\n",
       "    <tr>\n",
       "      <th>0</th>\n",
       "      <td>9</td>\n",
       "      <td>29c55f5f-0da7-43ec-ba1b-b60592689825</td>\n",
       "      <td>0</td>\n",
       "      <td>322249</td>\n",
       "      <td>10000</td>\n",
       "    </tr>\n",
       "    <tr>\n",
       "      <th>1</th>\n",
       "      <td>9</td>\n",
       "      <td>f818136a-138f-4578-a0bb-41605b67e0e5</td>\n",
       "      <td>0</td>\n",
       "      <td>42635</td>\n",
       "      <td>1623</td>\n",
       "    </tr>\n",
       "    <tr>\n",
       "      <th>2</th>\n",
       "      <td>9</td>\n",
       "      <td>bef609a9-f9c5-4870-be7f-cb20e70f7e92</td>\n",
       "      <td>0</td>\n",
       "      <td>143225</td>\n",
       "      <td>6483</td>\n",
       "    </tr>\n",
       "    <tr>\n",
       "      <th>3</th>\n",
       "      <td>9</td>\n",
       "      <td>2ba3a218-4792-4672-82c7-4b0953101d41</td>\n",
       "      <td>-1</td>\n",
       "      <td>54798</td>\n",
       "      <td>11632</td>\n",
       "    </tr>\n",
       "    <tr>\n",
       "      <th>4</th>\n",
       "      <td>9</td>\n",
       "      <td>723e61b4-d151-4368-b129-468417fd930c</td>\n",
       "      <td>0</td>\n",
       "      <td>129689</td>\n",
       "      <td>5000</td>\n",
       "    </tr>\n",
       "  </tbody>\n",
       "</table>\n",
       "</div>"
      ],
      "text/plain": [
       "   MONTH                             CLIENT_ID  RETRASO_PAGO_ESTADO  \\\n",
       "0      9  29c55f5f-0da7-43ec-ba1b-b60592689825                    0   \n",
       "1      9  f818136a-138f-4578-a0bb-41605b67e0e5                    0   \n",
       "2      9  bef609a9-f9c5-4870-be7f-cb20e70f7e92                    0   \n",
       "3      9  2ba3a218-4792-4672-82c7-4b0953101d41                   -1   \n",
       "4      9  723e61b4-d151-4368-b129-468417fd930c                    0   \n",
       "\n",
       "   DEUDA_MES  PAGO_MES  \n",
       "0     322249     10000  \n",
       "1      42635      1623  \n",
       "2     143225      6483  \n",
       "3      54798     11632  \n",
       "4     129689      5000  "
      ]
     },
     "execution_count": 17,
     "metadata": {},
     "output_type": "execute_result"
    }
   ],
   "source": [
    "transacciones.head()"
   ]
  },
  {
   "cell_type": "code",
   "execution_count": 19,
   "metadata": {},
   "outputs": [
    {
     "name": "stdout",
     "output_type": "stream",
     "text": [
      "La tabla contiene 144000 registros y 5 columnas\n"
     ]
    }
   ],
   "source": [
    "print(f\"La tabla contiene {transacciones.shape[0]} registros y {transacciones.shape[1]} columnas\")"
   ]
  },
  {
   "cell_type": "code",
   "execution_count": 21,
   "metadata": {},
   "outputs": [
    {
     "data": {
      "text/plain": [
       "MONTH\n",
       "9    24000\n",
       "8    24000\n",
       "7    24000\n",
       "6    24000\n",
       "5    24000\n",
       "4    24000\n",
       "Name: count, dtype: int64"
      ]
     },
     "execution_count": 21,
     "metadata": {},
     "output_type": "execute_result"
    }
   ],
   "source": [
    "# Recuento columna MONTH\n",
    "transacciones.MONTH.value_counts()"
   ]
  },
  {
   "cell_type": "code",
   "execution_count": 23,
   "metadata": {},
   "outputs": [
    {
     "name": "stdout",
     "output_type": "stream",
     "text": [
      "Número de IDs únicos: 24000\n"
     ]
    }
   ],
   "source": [
    "print(f\"Número de IDs únicos: {transacciones.CLIENT_ID.nunique()}\")"
   ]
  },
  {
   "attachments": {},
   "cell_type": "markdown",
   "metadata": {},
   "source": [
    "Observamos que la tabla transacciones tiene 144000 registros con observaciones temporales de los campos *RETRASO_PAGO_ESTADO*, *DEUDA_MES* y *PAGO_MES*. \n",
    "\n",
    "Tiene información de 24 mil clientes a lo largo de 6 meses, cada mes corresponde a una observación temporal, tomaremos la siguiente convención:\n",
    "\n",
    "$$\n",
    "\\begin{array}{l | c | c | c | c | c | c}\n",
    "\\text{Mes} & 9 & 8 & 7 & 6 & 5 & 4 \\\\\n",
    "\\hline\n",
    "\\text{Marca temporal} & t & t-1 & t-2 & t-3 & t-4 & t-5\n",
    "\\end{array}\n",
    "$$"
   ]
  },
  {
   "cell_type": "code",
   "execution_count": 171,
   "metadata": {},
   "outputs": [],
   "source": [
    "# Aplicar el mapeo de acuerdo a la convención\n",
    "convencion = {9-i: f't-{i}' for i in range(6)}\n",
    "transacciones[\"MONTH\"] = transacciones[\"MONTH\"].map(convencion)"
   ]
  },
  {
   "attachments": {},
   "cell_type": "markdown",
   "metadata": {},
   "source": [
    "Para analizar adecuadamente la información de las tres variables como series de tiempo asociada a cada cliente, utilizaremos tablas de pivote para cada una variables."
   ]
  },
  {
   "attachments": {},
   "cell_type": "markdown",
   "metadata": {},
   "source": [
    "### Estado de retraso de pago"
   ]
  },
  {
   "cell_type": "code",
   "execution_count": 61,
   "metadata": {},
   "outputs": [
    {
     "data": {
      "image/png": "[encoded data removed]",
      "text/plain": [
       "<Figure size 640x480 with 1 Axes>"
      ]
     },
     "metadata": {},
     "output_type": "display_data"
    }
   ],
   "source": [
    "# Recuento de todos los valores únicos \n",
    "ax = sns.countplot(data = transacciones, y=\"RETRASO_PAGO_ESTADO\")\n",
    "plt.title(\"Recuento de estados de retraso de pago\\na lo largo del semestre\\n\")\n",
    "plt.ylabel(\"Etiqueta\\nde estado\", rotation=0,)\n",
    "plt.xlabel(\"Cantidad\")\n",
    "ax.yaxis.set_label_coords(-0.2,0.5)\n",
    "plt.show()"
   ]
  },
  {
   "attachments": {},
   "cell_type": "markdown",
   "metadata": {},
   "source": [
    "Observamos que el estado más recurrente es $0$, que indica que no hubo retrasos en los pagos. Adicionalmente, los números del $1$ al $8$ sugieren que hay o hubo un retraso de esa cantidad de meses en el pago. Conjeturamos que las etiquetas $-1$ y $-2$ no son datos inconsistentes ya que existe una alta proporción de estas etiquetas, probablemente indiquen un pago adelantado."
   ]
  },
  {
   "cell_type": "code",
   "execution_count": 69,
   "metadata": {},
   "outputs": [
    {
     "data": {
      "text/html": [
       "<div>\n",
       "<style scoped>\n",
       "    .dataframe tbody tr th:only-of-type {\n",
       "        vertical-align: middle;\n",
       "    }\n",
       "\n",
       "    .dataframe tbody tr th {\n",
       "        vertical-align: top;\n",
       "    }\n",
       "\n",
       "    .dataframe thead th {\n",
       "        text-align: right;\n",
       "    }\n",
       "</style>\n",
       "<table border=\"1\" class=\"dataframe\">\n",
       "  <thead>\n",
       "    <tr style=\"text-align: right;\">\n",
       "      <th>MONTH</th>\n",
       "      <th>t-0</th>\n",
       "      <th>t-1</th>\n",
       "      <th>t-2</th>\n",
       "      <th>t-3</th>\n",
       "      <th>t-4</th>\n",
       "      <th>t-5</th>\n",
       "    </tr>\n",
       "    <tr>\n",
       "      <th>CLIENT_ID</th>\n",
       "      <th></th>\n",
       "      <th></th>\n",
       "      <th></th>\n",
       "      <th></th>\n",
       "      <th></th>\n",
       "      <th></th>\n",
       "    </tr>\n",
       "  </thead>\n",
       "  <tbody>\n",
       "    <tr>\n",
       "      <th>00004d47-2e99-461f-b6bf-59802fc72a8c</th>\n",
       "      <td>0</td>\n",
       "      <td>0</td>\n",
       "      <td>0</td>\n",
       "      <td>0</td>\n",
       "      <td>0</td>\n",
       "      <td>0</td>\n",
       "    </tr>\n",
       "    <tr>\n",
       "      <th>000af878-0c8d-4d31-901a-d4b5c584e08f</th>\n",
       "      <td>0</td>\n",
       "      <td>0</td>\n",
       "      <td>0</td>\n",
       "      <td>0</td>\n",
       "      <td>0</td>\n",
       "      <td>0</td>\n",
       "    </tr>\n",
       "    <tr>\n",
       "      <th>000c3e2f-013e-4894-81aa-aa96357a1cf2</th>\n",
       "      <td>0</td>\n",
       "      <td>0</td>\n",
       "      <td>-1</td>\n",
       "      <td>-1</td>\n",
       "      <td>-1</td>\n",
       "      <td>-1</td>\n",
       "    </tr>\n",
       "    <tr>\n",
       "      <th>000e7e42-2d80-441c-9ed5-df0e9dbb4c02</th>\n",
       "      <td>-1</td>\n",
       "      <td>-1</td>\n",
       "      <td>-1</td>\n",
       "      <td>-1</td>\n",
       "      <td>-1</td>\n",
       "      <td>-1</td>\n",
       "    </tr>\n",
       "    <tr>\n",
       "      <th>0011d46a-bf48-482d-aab0-526fe8b6e254</th>\n",
       "      <td>1</td>\n",
       "      <td>-2</td>\n",
       "      <td>-2</td>\n",
       "      <td>-2</td>\n",
       "      <td>-2</td>\n",
       "      <td>-2</td>\n",
       "    </tr>\n",
       "  </tbody>\n",
       "</table>\n",
       "</div>"
      ],
      "text/plain": [
       "MONTH                                 t-0  t-1  t-2  t-3  t-4  t-5\n",
       "CLIENT_ID                                                         \n",
       "00004d47-2e99-461f-b6bf-59802fc72a8c    0    0    0    0    0    0\n",
       "000af878-0c8d-4d31-901a-d4b5c584e08f    0    0    0    0    0    0\n",
       "000c3e2f-013e-4894-81aa-aa96357a1cf2    0    0   -1   -1   -1   -1\n",
       "000e7e42-2d80-441c-9ed5-df0e9dbb4c02   -1   -1   -1   -1   -1   -1\n",
       "0011d46a-bf48-482d-aab0-526fe8b6e254    1   -2   -2   -2   -2   -2"
      ]
     },
     "execution_count": 69,
     "metadata": {},
     "output_type": "execute_result"
    }
   ],
   "source": [
    "# Transponer meses para la analizar variable RETRASO_PAGO_ESTADO como serie de tiempo para cada cliene\n",
    "retraso = transacciones.pivot(index=\"CLIENT_ID\", columns=\"MONTH\", values=\"RETRASO_PAGO_ESTADO\")\n",
    "retraso.head()"
   ]
  },
  {
   "attachments": {},
   "cell_type": "markdown",
   "metadata": {},
   "source": [
    "El campo RETRASO_PAGO_ESTADO es una variable numérica ordinal con valores enteros que induce una serie temporal para cada cliente. No presenta datos inconsistentes."
   ]
  },
  {
   "attachments": {},
   "cell_type": "markdown",
   "metadata": {},
   "source": [
    "### Deudas mensuales"
   ]
  },
  {
   "attachments": {},
   "cell_type": "markdown",
   "metadata": {},
   "source": [
    "La variable DEUDA_MES corresponde al monto total de la deuda en la tarjeta de crédito del cliente en un determinado mes."
   ]
  },
  {
   "cell_type": "code",
   "execution_count": 73,
   "metadata": {},
   "outputs": [
    {
     "data": {
      "text/plain": [
       "count    1.440000e+05\n",
       "mean     4.466619e+04\n",
       "std      6.630685e+04\n",
       "min     -3.396030e+05\n",
       "25%      2.301750e+03\n",
       "50%      1.919100e+04\n",
       "75%      5.704425e+04\n",
       "max      1.664089e+06\n",
       "Name: DEUDA_MES, dtype: float64"
      ]
     },
     "execution_count": 73,
     "metadata": {},
     "output_type": "execute_result"
    }
   ],
   "source": [
    "# Medidas estadísticas básicas\n",
    "transacciones[\"DEUDA_MES\"].describe()"
   ]
  },
  {
   "cell_type": "code",
   "execution_count": 74,
   "metadata": {},
   "outputs": [
    {
     "data": {
      "image/png": "[encoded data removed]",
      "text/plain": [
       "<Figure size 900x500 with 2 Axes>"
      ]
     },
     "metadata": {},
     "output_type": "display_data"
    }
   ],
   "source": [
    "# Graficar un histograma y boxplot para conocer la distribución de la variable\n",
    "fig, ax = grafico_distribucion(transacciones[\"DEUDA_MES\"])\n",
    "plt.xlabel(\"\\nMonto de deuda ($)\")\n",
    "fig.suptitle(\"Distribución de la variable monto de deuda en todo el semestre\")\n",
    "plt.show()"
   ]
  },
  {
   "attachments": {},
   "cell_type": "markdown",
   "metadata": {},
   "source": [
    "Observamos que la variable DEUDA_MES presenta valores enteros, sin embargo,\n",
    "- Existen valores **negativos**, puede que sean datos inconsistentes o que representen algún otro hecho relacionado con la deuda. \n",
    "- Observamos la presencia de **outliers** estadísticos de acuerdo a la **regla intercuartil**.\n",
    "- Observamos también la presencia de datos **inconsistentes**, pues el monto de deuda no puede ser mayor al cupo de la tarjeta, reordemos que el cupo mayor era de $\\$800.000$"
   ]
  },
  {
   "cell_type": "code",
   "execution_count": 77,
   "metadata": {},
   "outputs": [
    {
     "name": "stdout",
     "output_type": "stream",
     "text": [
      "Existen 3163 transacciones con deudas negativas\n"
     ]
    }
   ],
   "source": [
    "num_deudas_neg = len(transacciones.query('DEUDA_MES<0'))\n",
    "print(f\"Existen {num_deudas_neg} transacciones con deudas negativas\")"
   ]
  },
  {
   "attachments": {},
   "cell_type": "markdown",
   "metadata": {},
   "source": [
    "Ahora observemos las deudas a nivel de cliente. Para ello transponemos los meses en columnas."
   ]
  },
  {
   "cell_type": "code",
   "execution_count": 103,
   "metadata": {},
   "outputs": [
    {
     "data": {
      "text/html": [
       "<div>\n",
       "<style scoped>\n",
       "    .dataframe tbody tr th:only-of-type {\n",
       "        vertical-align: middle;\n",
       "    }\n",
       "\n",
       "    .dataframe tbody tr th {\n",
       "        vertical-align: top;\n",
       "    }\n",
       "\n",
       "    .dataframe thead th {\n",
       "        text-align: right;\n",
       "    }\n",
       "</style>\n",
       "<table border=\"1\" class=\"dataframe\">\n",
       "  <thead>\n",
       "    <tr style=\"text-align: right;\">\n",
       "      <th>MONTH</th>\n",
       "      <th>t-0</th>\n",
       "      <th>t-1</th>\n",
       "      <th>t-2</th>\n",
       "      <th>t-3</th>\n",
       "      <th>t-4</th>\n",
       "      <th>t-5</th>\n",
       "    </tr>\n",
       "    <tr>\n",
       "      <th>CLIENT_ID</th>\n",
       "      <th></th>\n",
       "      <th></th>\n",
       "      <th></th>\n",
       "      <th></th>\n",
       "      <th></th>\n",
       "      <th></th>\n",
       "    </tr>\n",
       "  </thead>\n",
       "  <tbody>\n",
       "    <tr>\n",
       "      <th>00004d47-2e99-461f-b6bf-59802fc72a8c</th>\n",
       "      <td>81787</td>\n",
       "      <td>77845</td>\n",
       "      <td>60159</td>\n",
       "      <td>54151</td>\n",
       "      <td>45108</td>\n",
       "      <td>44490</td>\n",
       "    </tr>\n",
       "    <tr>\n",
       "      <th>000af878-0c8d-4d31-901a-d4b5c584e08f</th>\n",
       "      <td>21023</td>\n",
       "      <td>27270</td>\n",
       "      <td>11342</td>\n",
       "      <td>8305</td>\n",
       "      <td>7288</td>\n",
       "      <td>0</td>\n",
       "    </tr>\n",
       "    <tr>\n",
       "      <th>000c3e2f-013e-4894-81aa-aa96357a1cf2</th>\n",
       "      <td>19805</td>\n",
       "      <td>19900</td>\n",
       "      <td>390</td>\n",
       "      <td>390</td>\n",
       "      <td>0</td>\n",
       "      <td>780</td>\n",
       "    </tr>\n",
       "    <tr>\n",
       "      <th>000e7e42-2d80-441c-9ed5-df0e9dbb4c02</th>\n",
       "      <td>25487</td>\n",
       "      <td>6655</td>\n",
       "      <td>6355</td>\n",
       "      <td>18543</td>\n",
       "      <td>6022</td>\n",
       "      <td>1334</td>\n",
       "    </tr>\n",
       "    <tr>\n",
       "      <th>0011d46a-bf48-482d-aab0-526fe8b6e254</th>\n",
       "      <td>0</td>\n",
       "      <td>0</td>\n",
       "      <td>0</td>\n",
       "      <td>0</td>\n",
       "      <td>0</td>\n",
       "      <td>0</td>\n",
       "    </tr>\n",
       "    <tr>\n",
       "      <th>...</th>\n",
       "      <td>...</td>\n",
       "      <td>...</td>\n",
       "      <td>...</td>\n",
       "      <td>...</td>\n",
       "      <td>...</td>\n",
       "      <td>...</td>\n",
       "    </tr>\n",
       "    <tr>\n",
       "      <th>ffeeee1b-ad11-4bca-b461-2955c872a158</th>\n",
       "      <td>47937</td>\n",
       "      <td>33816</td>\n",
       "      <td>60320</td>\n",
       "      <td>36249</td>\n",
       "      <td>780</td>\n",
       "      <td>0</td>\n",
       "    </tr>\n",
       "    <tr>\n",
       "      <th>fff43052-7f1f-473f-8a56-99fff7ed0018</th>\n",
       "      <td>22778</td>\n",
       "      <td>6405</td>\n",
       "      <td>1683</td>\n",
       "      <td>-885</td>\n",
       "      <td>3019</td>\n",
       "      <td>-177</td>\n",
       "    </tr>\n",
       "    <tr>\n",
       "      <th>fff71109-4aae-49d5-9233-3efd3c7f45b1</th>\n",
       "      <td>268537</td>\n",
       "      <td>207118</td>\n",
       "      <td>202412</td>\n",
       "      <td>207496</td>\n",
       "      <td>250337</td>\n",
       "      <td>255277</td>\n",
       "    </tr>\n",
       "    <tr>\n",
       "      <th>fff95170-fb6d-4561-91b2-94d81f4eebb2</th>\n",
       "      <td>1100</td>\n",
       "      <td>1183</td>\n",
       "      <td>2736</td>\n",
       "      <td>0</td>\n",
       "      <td>0</td>\n",
       "      <td>0</td>\n",
       "    </tr>\n",
       "    <tr>\n",
       "      <th>fffa4fb3-4495-4622-8cce-2652ec71e2e6</th>\n",
       "      <td>24526</td>\n",
       "      <td>25532</td>\n",
       "      <td>25971</td>\n",
       "      <td>14859</td>\n",
       "      <td>14930</td>\n",
       "      <td>15091</td>\n",
       "    </tr>\n",
       "  </tbody>\n",
       "</table>\n",
       "<p>24000 rows × 6 columns</p>\n",
       "</div>"
      ],
      "text/plain": [
       "MONTH                                    t-0     t-1     t-2     t-3     t-4  \\\n",
       "CLIENT_ID                                                                      \n",
       "00004d47-2e99-461f-b6bf-59802fc72a8c   81787   77845   60159   54151   45108   \n",
       "000af878-0c8d-4d31-901a-d4b5c584e08f   21023   27270   11342    8305    7288   \n",
       "000c3e2f-013e-4894-81aa-aa96357a1cf2   19805   19900     390     390       0   \n",
       "000e7e42-2d80-441c-9ed5-df0e9dbb4c02   25487    6655    6355   18543    6022   \n",
       "0011d46a-bf48-482d-aab0-526fe8b6e254       0       0       0       0       0   \n",
       "...                                      ...     ...     ...     ...     ...   \n",
       "ffeeee1b-ad11-4bca-b461-2955c872a158   47937   33816   60320   36249     780   \n",
       "fff43052-7f1f-473f-8a56-99fff7ed0018   22778    6405    1683    -885    3019   \n",
       "fff71109-4aae-49d5-9233-3efd3c7f45b1  268537  207118  202412  207496  250337   \n",
       "fff95170-fb6d-4561-91b2-94d81f4eebb2    1100    1183    2736       0       0   \n",
       "fffa4fb3-4495-4622-8cce-2652ec71e2e6   24526   25532   25971   14859   14930   \n",
       "\n",
       "MONTH                                    t-5  \n",
       "CLIENT_ID                                     \n",
       "00004d47-2e99-461f-b6bf-59802fc72a8c   44490  \n",
       "000af878-0c8d-4d31-901a-d4b5c584e08f       0  \n",
       "000c3e2f-013e-4894-81aa-aa96357a1cf2     780  \n",
       "000e7e42-2d80-441c-9ed5-df0e9dbb4c02    1334  \n",
       "0011d46a-bf48-482d-aab0-526fe8b6e254       0  \n",
       "...                                      ...  \n",
       "ffeeee1b-ad11-4bca-b461-2955c872a158       0  \n",
       "fff43052-7f1f-473f-8a56-99fff7ed0018    -177  \n",
       "fff71109-4aae-49d5-9233-3efd3c7f45b1  255277  \n",
       "fff95170-fb6d-4561-91b2-94d81f4eebb2       0  \n",
       "fffa4fb3-4495-4622-8cce-2652ec71e2e6   15091  \n",
       "\n",
       "[24000 rows x 6 columns]"
      ]
     },
     "execution_count": 103,
     "metadata": {},
     "output_type": "execute_result"
    }
   ],
   "source": [
    "deudas = pd.pivot(transacciones, index=\"CLIENT_ID\", columns=\"MONTH\", values=\"DEUDA_MES\")\n",
    "deudas"
   ]
  },
  {
   "cell_type": "code",
   "execution_count": 104,
   "metadata": {},
   "outputs": [
    {
     "data": {
      "text/html": [
       "<div>\n",
       "<style scoped>\n",
       "    .dataframe tbody tr th:only-of-type {\n",
       "        vertical-align: middle;\n",
       "    }\n",
       "\n",
       "    .dataframe tbody tr th {\n",
       "        vertical-align: top;\n",
       "    }\n",
       "\n",
       "    .dataframe thead th {\n",
       "        text-align: right;\n",
       "    }\n",
       "</style>\n",
       "<table border=\"1\" class=\"dataframe\">\n",
       "  <thead>\n",
       "    <tr style=\"text-align: right;\">\n",
       "      <th>MONTH</th>\n",
       "      <th>t-0</th>\n",
       "      <th>t-1</th>\n",
       "      <th>t-2</th>\n",
       "      <th>t-3</th>\n",
       "      <th>t-4</th>\n",
       "      <th>t-5</th>\n",
       "    </tr>\n",
       "    <tr>\n",
       "      <th>CLIENT_ID</th>\n",
       "      <th></th>\n",
       "      <th></th>\n",
       "      <th></th>\n",
       "      <th></th>\n",
       "      <th></th>\n",
       "      <th></th>\n",
       "    </tr>\n",
       "  </thead>\n",
       "  <tbody>\n",
       "    <tr>\n",
       "      <th>0025e4aa-2ad1-49a2-8ee5-fb6e65791502</th>\n",
       "      <td>NaN</td>\n",
       "      <td>NaN</td>\n",
       "      <td>NaN</td>\n",
       "      <td>-101.0</td>\n",
       "      <td>NaN</td>\n",
       "      <td>NaN</td>\n",
       "    </tr>\n",
       "    <tr>\n",
       "      <th>004580bc-a753-4d62-8134-6dfa72b133e9</th>\n",
       "      <td>NaN</td>\n",
       "      <td>-2000.0</td>\n",
       "      <td>NaN</td>\n",
       "      <td>NaN</td>\n",
       "      <td>NaN</td>\n",
       "      <td>NaN</td>\n",
       "    </tr>\n",
       "    <tr>\n",
       "      <th>004e5527-dd4a-48ef-add0-8fc797c4eef6</th>\n",
       "      <td>-89.0</td>\n",
       "      <td>NaN</td>\n",
       "      <td>NaN</td>\n",
       "      <td>NaN</td>\n",
       "      <td>NaN</td>\n",
       "      <td>NaN</td>\n",
       "    </tr>\n",
       "    <tr>\n",
       "      <th>009aae1c-e7fc-4ac8-8cc5-215a35d7ebdf</th>\n",
       "      <td>NaN</td>\n",
       "      <td>NaN</td>\n",
       "      <td>-27.0</td>\n",
       "      <td>NaN</td>\n",
       "      <td>NaN</td>\n",
       "      <td>NaN</td>\n",
       "    </tr>\n",
       "    <tr>\n",
       "      <th>00c22be3-34dc-47cc-8fef-180da277f0f7</th>\n",
       "      <td>NaN</td>\n",
       "      <td>-1.0</td>\n",
       "      <td>-1.0</td>\n",
       "      <td>-1.0</td>\n",
       "      <td>-1.0</td>\n",
       "      <td>NaN</td>\n",
       "    </tr>\n",
       "    <tr>\n",
       "      <th>...</th>\n",
       "      <td>...</td>\n",
       "      <td>...</td>\n",
       "      <td>...</td>\n",
       "      <td>...</td>\n",
       "      <td>...</td>\n",
       "      <td>...</td>\n",
       "    </tr>\n",
       "    <tr>\n",
       "      <th>ff4b718f-cd71-4e0b-ae52-faf5b36c4338</th>\n",
       "      <td>NaN</td>\n",
       "      <td>NaN</td>\n",
       "      <td>-721.0</td>\n",
       "      <td>-710.0</td>\n",
       "      <td>NaN</td>\n",
       "      <td>NaN</td>\n",
       "    </tr>\n",
       "    <tr>\n",
       "      <th>ff9871c0-0587-46fe-a95e-567d9db6c86d</th>\n",
       "      <td>NaN</td>\n",
       "      <td>-627.0</td>\n",
       "      <td>NaN</td>\n",
       "      <td>NaN</td>\n",
       "      <td>NaN</td>\n",
       "      <td>NaN</td>\n",
       "    </tr>\n",
       "    <tr>\n",
       "      <th>ffb0196a-d064-4632-a8c0-0798c17d6933</th>\n",
       "      <td>NaN</td>\n",
       "      <td>NaN</td>\n",
       "      <td>-29.0</td>\n",
       "      <td>-29.0</td>\n",
       "      <td>-29.0</td>\n",
       "      <td>-29.0</td>\n",
       "    </tr>\n",
       "    <tr>\n",
       "      <th>ffd23e07-5d75-449b-ab32-ab0cf852668c</th>\n",
       "      <td>NaN</td>\n",
       "      <td>-4.0</td>\n",
       "      <td>NaN</td>\n",
       "      <td>NaN</td>\n",
       "      <td>NaN</td>\n",
       "      <td>NaN</td>\n",
       "    </tr>\n",
       "    <tr>\n",
       "      <th>fff43052-7f1f-473f-8a56-99fff7ed0018</th>\n",
       "      <td>NaN</td>\n",
       "      <td>NaN</td>\n",
       "      <td>NaN</td>\n",
       "      <td>-885.0</td>\n",
       "      <td>NaN</td>\n",
       "      <td>-177.0</td>\n",
       "    </tr>\n",
       "  </tbody>\n",
       "</table>\n",
       "<p>1524 rows × 6 columns</p>\n",
       "</div>"
      ],
      "text/plain": [
       "MONTH                                  t-0     t-1    t-2    t-3   t-4    t-5\n",
       "CLIENT_ID                                                                    \n",
       "0025e4aa-2ad1-49a2-8ee5-fb6e65791502   NaN     NaN    NaN -101.0   NaN    NaN\n",
       "004580bc-a753-4d62-8134-6dfa72b133e9   NaN -2000.0    NaN    NaN   NaN    NaN\n",
       "004e5527-dd4a-48ef-add0-8fc797c4eef6 -89.0     NaN    NaN    NaN   NaN    NaN\n",
       "009aae1c-e7fc-4ac8-8cc5-215a35d7ebdf   NaN     NaN  -27.0    NaN   NaN    NaN\n",
       "00c22be3-34dc-47cc-8fef-180da277f0f7   NaN    -1.0   -1.0   -1.0  -1.0    NaN\n",
       "...                                    ...     ...    ...    ...   ...    ...\n",
       "ff4b718f-cd71-4e0b-ae52-faf5b36c4338   NaN     NaN -721.0 -710.0   NaN    NaN\n",
       "ff9871c0-0587-46fe-a95e-567d9db6c86d   NaN  -627.0    NaN    NaN   NaN    NaN\n",
       "ffb0196a-d064-4632-a8c0-0798c17d6933   NaN     NaN  -29.0  -29.0 -29.0  -29.0\n",
       "ffd23e07-5d75-449b-ab32-ab0cf852668c   NaN    -4.0    NaN    NaN   NaN    NaN\n",
       "fff43052-7f1f-473f-8a56-99fff7ed0018   NaN     NaN    NaN -885.0   NaN -177.0\n",
       "\n",
       "[1524 rows x 6 columns]"
      ]
     },
     "execution_count": 104,
     "metadata": {},
     "output_type": "execute_result"
    }
   ],
   "source": [
    "# Clientes con deudas negativas\n",
    "deudas[deudas<0].dropna(how='all')"
   ]
  },
  {
   "cell_type": "code",
   "execution_count": 105,
   "metadata": {},
   "outputs": [
    {
     "name": "stdout",
     "output_type": "stream",
     "text": [
      "Hay 1524 clientes con deudas negativas, lo que representa el 6.35%\n"
     ]
    }
   ],
   "source": [
    "num_clientes_deudas_neg = len(deudas[deudas<0].dropna(how='all'))\n",
    "prop_deudas_neg = num_clientes_deudas_neg/len(clientes)\n",
    "print(\"Hay {} clientes con deudas negativas, lo que representa el {:.2%}\".format(num_clientes_deudas_neg, prop_deudas_neg))\n"
   ]
  },
  {
   "attachments": {},
   "cell_type": "markdown",
   "metadata": {},
   "source": [
    "Observamos que existen 1524 clientes que tienen por lo menos un monto de deuda negativo en algún mes, lo que representa un 6.35% de la muestra de todos los clientes. Para corregir este problema se podrían eliminar estos registros o reemplazarlos usando alguna técnica de imputación de datos."
   ]
  },
  {
   "attachments": {},
   "cell_type": "markdown",
   "metadata": {},
   "source": [
    "**¿Imputación de datos?**\n",
    "\n",
    "Una aproximación a la imputación de datos para esta variable consiste en reemplazar los valores negativos con la media de deuda a lo largo del semestre o reemplazar el dato negativo realizando una interpolación con base en los datos positivos. Sin embargo, para realizarlo, tendríamos que asegurarnos de que la mayoría de datos de deudas del cliente fuesen consistentes."
   ]
  },
  {
   "cell_type": "code",
   "execution_count": 106,
   "metadata": {},
   "outputs": [
    {
     "data": {
      "text/html": [
       "<div>\n",
       "<style scoped>\n",
       "    .dataframe tbody tr th:only-of-type {\n",
       "        vertical-align: middle;\n",
       "    }\n",
       "\n",
       "    .dataframe tbody tr th {\n",
       "        vertical-align: top;\n",
       "    }\n",
       "\n",
       "    .dataframe thead th {\n",
       "        text-align: right;\n",
       "    }\n",
       "</style>\n",
       "<table border=\"1\" class=\"dataframe\">\n",
       "  <thead>\n",
       "    <tr style=\"text-align: right;\">\n",
       "      <th>MONTH</th>\n",
       "      <th>t-0</th>\n",
       "      <th>t-1</th>\n",
       "      <th>t-2</th>\n",
       "      <th>t-3</th>\n",
       "      <th>t-4</th>\n",
       "      <th>t-5</th>\n",
       "    </tr>\n",
       "    <tr>\n",
       "      <th>CLIENT_ID</th>\n",
       "      <th></th>\n",
       "      <th></th>\n",
       "      <th></th>\n",
       "      <th></th>\n",
       "      <th></th>\n",
       "      <th></th>\n",
       "    </tr>\n",
       "  </thead>\n",
       "  <tbody>\n",
       "    <tr>\n",
       "      <th>01b4f798-0901-44cf-9c63-63e087da56d1</th>\n",
       "      <td>-1590.0</td>\n",
       "      <td>-6256.0</td>\n",
       "      <td>-10922.0</td>\n",
       "      <td>-15588.0</td>\n",
       "      <td>-20254.0</td>\n",
       "      <td>-24920.0</td>\n",
       "    </tr>\n",
       "    <tr>\n",
       "      <th>07d20a27-570c-4ee9-94df-5ce595bc8259</th>\n",
       "      <td>-5.0</td>\n",
       "      <td>-5.0</td>\n",
       "      <td>-5.0</td>\n",
       "      <td>-5.0</td>\n",
       "      <td>-5.0</td>\n",
       "      <td>-5.0</td>\n",
       "    </tr>\n",
       "    <tr>\n",
       "      <th>0a53f40f-ed7a-4297-9b30-d07d3fad3d93</th>\n",
       "      <td>-212.0</td>\n",
       "      <td>-212.0</td>\n",
       "      <td>-212.0</td>\n",
       "      <td>-212.0</td>\n",
       "      <td>-212.0</td>\n",
       "      <td>-212.0</td>\n",
       "    </tr>\n",
       "    <tr>\n",
       "      <th>11746ec8-1a75-4250-8d9f-07eccb5998eb</th>\n",
       "      <td>-3.0</td>\n",
       "      <td>-3.0</td>\n",
       "      <td>-3.0</td>\n",
       "      <td>-3.0</td>\n",
       "      <td>-3.0</td>\n",
       "      <td>-3.0</td>\n",
       "    </tr>\n",
       "    <tr>\n",
       "      <th>11cc56fe-19da-4042-9c6a-6bf4baaf7162</th>\n",
       "      <td>-12.0</td>\n",
       "      <td>-12.0</td>\n",
       "      <td>-12.0</td>\n",
       "      <td>-12.0</td>\n",
       "      <td>-12.0</td>\n",
       "      <td>-12.0</td>\n",
       "    </tr>\n",
       "    <tr>\n",
       "      <th>...</th>\n",
       "      <td>...</td>\n",
       "      <td>...</td>\n",
       "      <td>...</td>\n",
       "      <td>...</td>\n",
       "      <td>...</td>\n",
       "      <td>...</td>\n",
       "    </tr>\n",
       "    <tr>\n",
       "      <th>ec0a1e13-85c0-4f7c-b8e4-ee0b559a4115</th>\n",
       "      <td>-10.0</td>\n",
       "      <td>-10.0</td>\n",
       "      <td>-10.0</td>\n",
       "      <td>-10.0</td>\n",
       "      <td>-10.0</td>\n",
       "      <td>-10.0</td>\n",
       "    </tr>\n",
       "    <tr>\n",
       "      <th>f15aa97e-4d5e-4cb2-8537-3b641b7ce6b6</th>\n",
       "      <td>-702.0</td>\n",
       "      <td>-808.0</td>\n",
       "      <td>-1141.0</td>\n",
       "      <td>-1247.0</td>\n",
       "      <td>-1353.0</td>\n",
       "      <td>-1459.0</td>\n",
       "    </tr>\n",
       "    <tr>\n",
       "      <th>f46c196b-a311-4f1e-a565-caf6d6065cd5</th>\n",
       "      <td>-10.0</td>\n",
       "      <td>-10.0</td>\n",
       "      <td>-10.0</td>\n",
       "      <td>-10.0</td>\n",
       "      <td>-10.0</td>\n",
       "      <td>-10.0</td>\n",
       "    </tr>\n",
       "    <tr>\n",
       "      <th>fc1688fc-f318-4deb-8914-e9f14ea06f1b</th>\n",
       "      <td>-18.0</td>\n",
       "      <td>-18.0</td>\n",
       "      <td>-18.0</td>\n",
       "      <td>-18.0</td>\n",
       "      <td>-18.0</td>\n",
       "      <td>-18.0</td>\n",
       "    </tr>\n",
       "    <tr>\n",
       "      <th>fcd2c327-2aac-4606-90eb-785be7328325</th>\n",
       "      <td>-897.0</td>\n",
       "      <td>-897.0</td>\n",
       "      <td>-897.0</td>\n",
       "      <td>-897.0</td>\n",
       "      <td>-897.0</td>\n",
       "      <td>-897.0</td>\n",
       "    </tr>\n",
       "  </tbody>\n",
       "</table>\n",
       "<p>74 rows × 6 columns</p>\n",
       "</div>"
      ],
      "text/plain": [
       "MONTH                                    t-0     t-1      t-2      t-3  \\\n",
       "CLIENT_ID                                                                \n",
       "01b4f798-0901-44cf-9c63-63e087da56d1 -1590.0 -6256.0 -10922.0 -15588.0   \n",
       "07d20a27-570c-4ee9-94df-5ce595bc8259    -5.0    -5.0     -5.0     -5.0   \n",
       "0a53f40f-ed7a-4297-9b30-d07d3fad3d93  -212.0  -212.0   -212.0   -212.0   \n",
       "11746ec8-1a75-4250-8d9f-07eccb5998eb    -3.0    -3.0     -3.0     -3.0   \n",
       "11cc56fe-19da-4042-9c6a-6bf4baaf7162   -12.0   -12.0    -12.0    -12.0   \n",
       "...                                      ...     ...      ...      ...   \n",
       "ec0a1e13-85c0-4f7c-b8e4-ee0b559a4115   -10.0   -10.0    -10.0    -10.0   \n",
       "f15aa97e-4d5e-4cb2-8537-3b641b7ce6b6  -702.0  -808.0  -1141.0  -1247.0   \n",
       "f46c196b-a311-4f1e-a565-caf6d6065cd5   -10.0   -10.0    -10.0    -10.0   \n",
       "fc1688fc-f318-4deb-8914-e9f14ea06f1b   -18.0   -18.0    -18.0    -18.0   \n",
       "fcd2c327-2aac-4606-90eb-785be7328325  -897.0  -897.0   -897.0   -897.0   \n",
       "\n",
       "MONTH                                     t-4      t-5  \n",
       "CLIENT_ID                                               \n",
       "01b4f798-0901-44cf-9c63-63e087da56d1 -20254.0 -24920.0  \n",
       "07d20a27-570c-4ee9-94df-5ce595bc8259     -5.0     -5.0  \n",
       "0a53f40f-ed7a-4297-9b30-d07d3fad3d93   -212.0   -212.0  \n",
       "11746ec8-1a75-4250-8d9f-07eccb5998eb     -3.0     -3.0  \n",
       "11cc56fe-19da-4042-9c6a-6bf4baaf7162    -12.0    -12.0  \n",
       "...                                       ...      ...  \n",
       "ec0a1e13-85c0-4f7c-b8e4-ee0b559a4115    -10.0    -10.0  \n",
       "f15aa97e-4d5e-4cb2-8537-3b641b7ce6b6  -1353.0  -1459.0  \n",
       "f46c196b-a311-4f1e-a565-caf6d6065cd5    -10.0    -10.0  \n",
       "fc1688fc-f318-4deb-8914-e9f14ea06f1b    -18.0    -18.0  \n",
       "fcd2c327-2aac-4606-90eb-785be7328325   -897.0   -897.0  \n",
       "\n",
       "[74 rows x 6 columns]"
      ]
     },
     "execution_count": 106,
     "metadata": {},
     "output_type": "execute_result"
    }
   ],
   "source": [
    "# Clientes con todas sus deudas negativas\n",
    "deudas[deudas<0].dropna(how='any')"
   ]
  },
  {
   "attachments": {},
   "cell_type": "markdown",
   "metadata": {},
   "source": [
    "Observamos que existen 74 clientes con todas sus deudas negativas, en donde no tiene sentido realizar la imputación, por lo tanto, eliminaremos dichos registros para la construcción del modelo."
   ]
  },
  {
   "attachments": {},
   "cell_type": "markdown",
   "metadata": {},
   "source": [
    "### Pagos mensuales"
   ]
  },
  {
   "cell_type": "code",
   "execution_count": 107,
   "metadata": {},
   "outputs": [
    {
     "data": {
      "text/plain": [
       "count    1.440000e+05\n",
       "mean     5.225306e+03\n",
       "std      1.712472e+04\n",
       "min      0.000000e+00\n",
       "25%      3.900000e+02\n",
       "50%      1.874000e+03\n",
       "75%      4.516000e+03\n",
       "max      1.684259e+06\n",
       "Name: PAGO_MES, dtype: float64"
      ]
     },
     "execution_count": 107,
     "metadata": {},
     "output_type": "execute_result"
    }
   ],
   "source": [
    "# Medidas estadísticas básicas\n",
    "transacciones[\"PAGO_MES\"].describe()"
   ]
  },
  {
   "cell_type": "code",
   "execution_count": 108,
   "metadata": {},
   "outputs": [
    {
     "data": {
      "image/png": "[encoded data removed]",
      "text/plain": [
       "<Figure size 900x500 with 2 Axes>"
      ]
     },
     "metadata": {},
     "output_type": "display_data"
    }
   ],
   "source": [
    "# Graficar un histograma y boxplot para conocer la distribución de la variable\n",
    "fig, ax = grafico_distribucion(transacciones[\"PAGO_MES\"])\n",
    "plt.xlabel(\"\\nMonto de pago ($)\")\n",
    "fig.suptitle(\"Distribución de la variable monto de pago en todo el semestre\")\n",
    "plt.show()"
   ]
  },
  {
   "attachments": {},
   "cell_type": "markdown",
   "metadata": {},
   "source": [
    "\n",
    "Obsermos la presencia de datos **inconsistentes** correspondientes a pagos mayores al cupo de la tarjeta, lo que no nos permite entender claramente los gráficos de dsitribución."
   ]
  },
  {
   "cell_type": "code",
   "execution_count": 110,
   "metadata": {},
   "outputs": [
    {
     "data": {
      "text/html": [
       "<div>\n",
       "<style scoped>\n",
       "    .dataframe tbody tr th:only-of-type {\n",
       "        vertical-align: middle;\n",
       "    }\n",
       "\n",
       "    .dataframe tbody tr th {\n",
       "        vertical-align: top;\n",
       "    }\n",
       "\n",
       "    .dataframe thead th {\n",
       "        text-align: right;\n",
       "    }\n",
       "</style>\n",
       "<table border=\"1\" class=\"dataframe\">\n",
       "  <thead>\n",
       "    <tr style=\"text-align: right;\">\n",
       "      <th>MONTH</th>\n",
       "      <th>t-0</th>\n",
       "      <th>t-1</th>\n",
       "      <th>t-2</th>\n",
       "      <th>t-3</th>\n",
       "      <th>t-4</th>\n",
       "      <th>t-5</th>\n",
       "    </tr>\n",
       "    <tr>\n",
       "      <th>CLIENT_ID</th>\n",
       "      <th></th>\n",
       "      <th></th>\n",
       "      <th></th>\n",
       "      <th></th>\n",
       "      <th></th>\n",
       "      <th></th>\n",
       "    </tr>\n",
       "  </thead>\n",
       "  <tbody>\n",
       "    <tr>\n",
       "      <th>00004d47-2e99-461f-b6bf-59802fc72a8c</th>\n",
       "      <td>2600</td>\n",
       "      <td>3009</td>\n",
       "      <td>2200</td>\n",
       "      <td>2000</td>\n",
       "      <td>2000</td>\n",
       "      <td>2832</td>\n",
       "    </tr>\n",
       "    <tr>\n",
       "      <th>000af878-0c8d-4d31-901a-d4b5c584e08f</th>\n",
       "      <td>3000</td>\n",
       "      <td>1000</td>\n",
       "      <td>0</td>\n",
       "      <td>0</td>\n",
       "      <td>0</td>\n",
       "      <td>0</td>\n",
       "    </tr>\n",
       "    <tr>\n",
       "      <th>000c3e2f-013e-4894-81aa-aa96357a1cf2</th>\n",
       "      <td>1000</td>\n",
       "      <td>390</td>\n",
       "      <td>390</td>\n",
       "      <td>0</td>\n",
       "      <td>780</td>\n",
       "      <td>0</td>\n",
       "    </tr>\n",
       "    <tr>\n",
       "      <th>000e7e42-2d80-441c-9ed5-df0e9dbb4c02</th>\n",
       "      <td>6655</td>\n",
       "      <td>6359</td>\n",
       "      <td>18543</td>\n",
       "      <td>6022</td>\n",
       "      <td>1334</td>\n",
       "      <td>3864</td>\n",
       "    </tr>\n",
       "    <tr>\n",
       "      <th>0011d46a-bf48-482d-aab0-526fe8b6e254</th>\n",
       "      <td>0</td>\n",
       "      <td>0</td>\n",
       "      <td>0</td>\n",
       "      <td>0</td>\n",
       "      <td>0</td>\n",
       "      <td>0</td>\n",
       "    </tr>\n",
       "    <tr>\n",
       "      <th>...</th>\n",
       "      <td>...</td>\n",
       "      <td>...</td>\n",
       "      <td>...</td>\n",
       "      <td>...</td>\n",
       "      <td>...</td>\n",
       "      <td>...</td>\n",
       "    </tr>\n",
       "    <tr>\n",
       "      <th>ffeeee1b-ad11-4bca-b461-2955c872a158</th>\n",
       "      <td>2000</td>\n",
       "      <td>2000</td>\n",
       "      <td>3293</td>\n",
       "      <td>0</td>\n",
       "      <td>0</td>\n",
       "      <td>0</td>\n",
       "    </tr>\n",
       "    <tr>\n",
       "      <th>fff43052-7f1f-473f-8a56-99fff7ed0018</th>\n",
       "      <td>6500</td>\n",
       "      <td>2515</td>\n",
       "      <td>0</td>\n",
       "      <td>8000</td>\n",
       "      <td>0</td>\n",
       "      <td>1000</td>\n",
       "    </tr>\n",
       "    <tr>\n",
       "      <th>fff71109-4aae-49d5-9233-3efd3c7f45b1</th>\n",
       "      <td>10000</td>\n",
       "      <td>8000</td>\n",
       "      <td>12000</td>\n",
       "      <td>50000</td>\n",
       "      <td>28000</td>\n",
       "      <td>60000</td>\n",
       "    </tr>\n",
       "    <tr>\n",
       "      <th>fff95170-fb6d-4561-91b2-94d81f4eebb2</th>\n",
       "      <td>1183</td>\n",
       "      <td>2736</td>\n",
       "      <td>0</td>\n",
       "      <td>0</td>\n",
       "      <td>0</td>\n",
       "      <td>0</td>\n",
       "    </tr>\n",
       "    <tr>\n",
       "      <th>fffa4fb3-4495-4622-8cce-2652ec71e2e6</th>\n",
       "      <td>1790</td>\n",
       "      <td>1229</td>\n",
       "      <td>519</td>\n",
       "      <td>687</td>\n",
       "      <td>557</td>\n",
       "      <td>546</td>\n",
       "    </tr>\n",
       "  </tbody>\n",
       "</table>\n",
       "<p>24000 rows × 6 columns</p>\n",
       "</div>"
      ],
      "text/plain": [
       "MONTH                                   t-0   t-1    t-2    t-3    t-4    t-5\n",
       "CLIENT_ID                                                                    \n",
       "00004d47-2e99-461f-b6bf-59802fc72a8c   2600  3009   2200   2000   2000   2832\n",
       "000af878-0c8d-4d31-901a-d4b5c584e08f   3000  1000      0      0      0      0\n",
       "000c3e2f-013e-4894-81aa-aa96357a1cf2   1000   390    390      0    780      0\n",
       "000e7e42-2d80-441c-9ed5-df0e9dbb4c02   6655  6359  18543   6022   1334   3864\n",
       "0011d46a-bf48-482d-aab0-526fe8b6e254      0     0      0      0      0      0\n",
       "...                                     ...   ...    ...    ...    ...    ...\n",
       "ffeeee1b-ad11-4bca-b461-2955c872a158   2000  2000   3293      0      0      0\n",
       "fff43052-7f1f-473f-8a56-99fff7ed0018   6500  2515      0   8000      0   1000\n",
       "fff71109-4aae-49d5-9233-3efd3c7f45b1  10000  8000  12000  50000  28000  60000\n",
       "fff95170-fb6d-4561-91b2-94d81f4eebb2   1183  2736      0      0      0      0\n",
       "fffa4fb3-4495-4622-8cce-2652ec71e2e6   1790  1229    519    687    557    546\n",
       "\n",
       "[24000 rows x 6 columns]"
      ]
     },
     "execution_count": 110,
     "metadata": {},
     "output_type": "execute_result"
    }
   ],
   "source": [
    "# Tabla pivote de pagos\n",
    "pagos = pd.pivot(transacciones, index=\"CLIENT_ID\", columns=\"MONTH\", values=\"PAGO_MES\")\n",
    "pagos"
   ]
  },
  {
   "attachments": {},
   "cell_type": "markdown",
   "metadata": {},
   "source": [
    "### Registros monetarios inconsistentes"
   ]
  },
  {
   "attachments": {},
   "cell_type": "markdown",
   "metadata": {},
   "source": [
    "Existen registros de pagos y deudas en la base de datos de transacciones que superan el monto del cupo de la tarjeta de crédito de cada cliente, por lo que se consideran como datos inconsistentes. A continuación realizaremos un análisis de la cantidad de clientes que presentan este comportamiento.\n",
    "\n",
    "Para ello construimos una tabla con la información monetaria, es decir, pagos, deudas y cupo."
   ]
  },
  {
   "cell_type": "code",
   "execution_count": 157,
   "metadata": {},
   "outputs": [
    {
     "data": {
      "text/html": [
       "<div>\n",
       "<style scoped>\n",
       "    .dataframe tbody tr th:only-of-type {\n",
       "        vertical-align: middle;\n",
       "    }\n",
       "\n",
       "    .dataframe tbody tr th {\n",
       "        vertical-align: top;\n",
       "    }\n",
       "\n",
       "    .dataframe thead th {\n",
       "        text-align: right;\n",
       "    }\n",
       "</style>\n",
       "<table border=\"1\" class=\"dataframe\">\n",
       "  <thead>\n",
       "    <tr style=\"text-align: right;\">\n",
       "      <th></th>\n",
       "      <th>Cupo_TC</th>\n",
       "      <th>DEUDA_MES_t-0</th>\n",
       "      <th>DEUDA_MES_t-1</th>\n",
       "      <th>DEUDA_MES_t-2</th>\n",
       "      <th>DEUDA_MES_t-3</th>\n",
       "      <th>DEUDA_MES_t-4</th>\n",
       "      <th>DEUDA_MES_t-5</th>\n",
       "      <th>PAGO_MES_t-0</th>\n",
       "      <th>PAGO_MES_t-1</th>\n",
       "      <th>PAGO_MES_t-2</th>\n",
       "      <th>PAGO_MES_t-3</th>\n",
       "      <th>PAGO_MES_t-4</th>\n",
       "      <th>PAGO_MES_t-5</th>\n",
       "    </tr>\n",
       "  </thead>\n",
       "  <tbody>\n",
       "    <tr>\n",
       "      <th>0</th>\n",
       "      <td>270000</td>\n",
       "      <td>322249</td>\n",
       "      <td>298700</td>\n",
       "      <td>308133</td>\n",
       "      <td>263516</td>\n",
       "      <td>94062</td>\n",
       "      <td>92618</td>\n",
       "      <td>10000</td>\n",
       "      <td>13000</td>\n",
       "      <td>12000</td>\n",
       "      <td>5000</td>\n",
       "      <td>4000</td>\n",
       "      <td>5000</td>\n",
       "    </tr>\n",
       "    <tr>\n",
       "      <th>1</th>\n",
       "      <td>80000</td>\n",
       "      <td>42635</td>\n",
       "      <td>39508</td>\n",
       "      <td>36060</td>\n",
       "      <td>30470</td>\n",
       "      <td>18306</td>\n",
       "      <td>7432</td>\n",
       "      <td>1623</td>\n",
       "      <td>1740</td>\n",
       "      <td>1200</td>\n",
       "      <td>366</td>\n",
       "      <td>7432</td>\n",
       "      <td>0</td>\n",
       "    </tr>\n",
       "    <tr>\n",
       "      <th>2</th>\n",
       "      <td>210000</td>\n",
       "      <td>143225</td>\n",
       "      <td>142996</td>\n",
       "      <td>144415</td>\n",
       "      <td>148190</td>\n",
       "      <td>147993</td>\n",
       "      <td>131629</td>\n",
       "      <td>6483</td>\n",
       "      <td>5082</td>\n",
       "      <td>6000</td>\n",
       "      <td>5900</td>\n",
       "      <td>4544</td>\n",
       "      <td>4700</td>\n",
       "    </tr>\n",
       "    <tr>\n",
       "      <th>3</th>\n",
       "      <td>230000</td>\n",
       "      <td>54798</td>\n",
       "      <td>11632</td>\n",
       "      <td>4987</td>\n",
       "      <td>6222</td>\n",
       "      <td>15121</td>\n",
       "      <td>17425</td>\n",
       "      <td>11632</td>\n",
       "      <td>4987</td>\n",
       "      <td>6222</td>\n",
       "      <td>15121</td>\n",
       "      <td>17425</td>\n",
       "      <td>17007</td>\n",
       "    </tr>\n",
       "    <tr>\n",
       "      <th>4</th>\n",
       "      <td>130000</td>\n",
       "      <td>129689</td>\n",
       "      <td>107070</td>\n",
       "      <td>103942</td>\n",
       "      <td>94623</td>\n",
       "      <td>90556</td>\n",
       "      <td>92394</td>\n",
       "      <td>5000</td>\n",
       "      <td>4400</td>\n",
       "      <td>5000</td>\n",
       "      <td>4000</td>\n",
       "      <td>3500</td>\n",
       "      <td>4000</td>\n",
       "    </tr>\n",
       "  </tbody>\n",
       "</table>\n",
       "</div>"
      ],
      "text/plain": [
       "   Cupo_TC  DEUDA_MES_t-0  DEUDA_MES_t-1  DEUDA_MES_t-2  DEUDA_MES_t-3  \\\n",
       "0   270000         322249         298700         308133         263516   \n",
       "1    80000          42635          39508          36060          30470   \n",
       "2   210000         143225         142996         144415         148190   \n",
       "3   230000          54798          11632           4987           6222   \n",
       "4   130000         129689         107070         103942          94623   \n",
       "\n",
       "   DEUDA_MES_t-4  DEUDA_MES_t-5  PAGO_MES_t-0  PAGO_MES_t-1  PAGO_MES_t-2  \\\n",
       "0          94062          92618         10000         13000         12000   \n",
       "1          18306           7432          1623          1740          1200   \n",
       "2         147993         131629          6483          5082          6000   \n",
       "3          15121          17425         11632          4987          6222   \n",
       "4          90556          92394          5000          4400          5000   \n",
       "\n",
       "   PAGO_MES_t-3  PAGO_MES_t-4  PAGO_MES_t-5  \n",
       "0          5000          4000          5000  \n",
       "1           366          7432             0  \n",
       "2          5900          4544          4700  \n",
       "3         15121         17425         17007  \n",
       "4          4000          3500          4000  "
      ]
     },
     "execution_count": 157,
     "metadata": {},
     "output_type": "execute_result"
    }
   ],
   "source": [
    "# Transponer deudas y pagos de la tabla transacciones\n",
    "money_df = pd.pivot(transacciones, index=\"CLIENT_ID\", columns=\"MONTH\", values=[\"DEUDA_MES\", \"PAGO_MES\"])\n",
    "# Eliminar el multíndice generado por la transposición\n",
    "money_df.columns = money_df.columns.to_flat_index()\n",
    "money_df.columns = [ f\"{var}_{time_tag}\" for (var, time_tag) in money_df.columns ]\n",
    "money_df = money_df.reset_index()\n",
    "# Traer el cupo de la tabla Clientes\n",
    "money_df = clientes[[\"CLIENT_ID\",\"Cupo_TC\"]].merge(money_df, on=\"CLIENT_ID\")\n",
    "# Eliminar el ID\n",
    "money_df = money_df.drop(columns=[\"CLIENT_ID\"])\n",
    "money_df.head()"
   ]
  },
  {
   "cell_type": "code",
   "execution_count": 169,
   "metadata": {},
   "outputs": [
    {
     "data": {
      "text/html": [
       "<div>\n",
       "<style scoped>\n",
       "    .dataframe tbody tr th:only-of-type {\n",
       "        vertical-align: middle;\n",
       "    }\n",
       "\n",
       "    .dataframe tbody tr th {\n",
       "        vertical-align: top;\n",
       "    }\n",
       "\n",
       "    .dataframe thead th {\n",
       "        text-align: right;\n",
       "    }\n",
       "</style>\n",
       "<table border=\"1\" class=\"dataframe\">\n",
       "  <thead>\n",
       "    <tr style=\"text-align: right;\">\n",
       "      <th></th>\n",
       "      <th>Cupo_TC</th>\n",
       "      <th>DEUDA_MES_t-0</th>\n",
       "      <th>DEUDA_MES_t-1</th>\n",
       "      <th>DEUDA_MES_t-2</th>\n",
       "      <th>DEUDA_MES_t-3</th>\n",
       "      <th>DEUDA_MES_t-4</th>\n",
       "      <th>DEUDA_MES_t-5</th>\n",
       "      <th>PAGO_MES_t-0</th>\n",
       "      <th>PAGO_MES_t-1</th>\n",
       "      <th>PAGO_MES_t-2</th>\n",
       "      <th>PAGO_MES_t-3</th>\n",
       "      <th>PAGO_MES_t-4</th>\n",
       "      <th>PAGO_MES_t-5</th>\n",
       "    </tr>\n",
       "  </thead>\n",
       "  <tbody>\n",
       "    <tr>\n",
       "      <th>0</th>\n",
       "      <td>270000</td>\n",
       "      <td>322249</td>\n",
       "      <td>298700</td>\n",
       "      <td>308133</td>\n",
       "      <td>263516</td>\n",
       "      <td>94062</td>\n",
       "      <td>92618</td>\n",
       "      <td>10000</td>\n",
       "      <td>13000</td>\n",
       "      <td>12000</td>\n",
       "      <td>5000</td>\n",
       "      <td>4000</td>\n",
       "      <td>5000</td>\n",
       "    </tr>\n",
       "    <tr>\n",
       "      <th>7</th>\n",
       "      <td>20000</td>\n",
       "      <td>19149</td>\n",
       "      <td>20221</td>\n",
       "      <td>19812</td>\n",
       "      <td>10717</td>\n",
       "      <td>13534</td>\n",
       "      <td>15298</td>\n",
       "      <td>1392</td>\n",
       "      <td>1201</td>\n",
       "      <td>1000</td>\n",
       "      <td>3000</td>\n",
       "      <td>2000</td>\n",
       "      <td>399</td>\n",
       "    </tr>\n",
       "    <tr>\n",
       "      <th>19</th>\n",
       "      <td>50000</td>\n",
       "      <td>44470</td>\n",
       "      <td>51192</td>\n",
       "      <td>48506</td>\n",
       "      <td>18524</td>\n",
       "      <td>19239</td>\n",
       "      <td>19283</td>\n",
       "      <td>7800</td>\n",
       "      <td>173</td>\n",
       "      <td>1000</td>\n",
       "      <td>1000</td>\n",
       "      <td>1000</td>\n",
       "      <td>1000</td>\n",
       "    </tr>\n",
       "    <tr>\n",
       "      <th>37</th>\n",
       "      <td>60000</td>\n",
       "      <td>60745</td>\n",
       "      <td>61085</td>\n",
       "      <td>56863</td>\n",
       "      <td>18473</td>\n",
       "      <td>15434</td>\n",
       "      <td>7301</td>\n",
       "      <td>2613</td>\n",
       "      <td>5900</td>\n",
       "      <td>1000</td>\n",
       "      <td>428</td>\n",
       "      <td>1000</td>\n",
       "      <td>2000</td>\n",
       "    </tr>\n",
       "    <tr>\n",
       "      <th>43</th>\n",
       "      <td>20000</td>\n",
       "      <td>20571</td>\n",
       "      <td>19089</td>\n",
       "      <td>19658</td>\n",
       "      <td>19453</td>\n",
       "      <td>19108</td>\n",
       "      <td>18868</td>\n",
       "      <td>1323</td>\n",
       "      <td>1600</td>\n",
       "      <td>830</td>\n",
       "      <td>700</td>\n",
       "      <td>674</td>\n",
       "      <td>376</td>\n",
       "    </tr>\n",
       "  </tbody>\n",
       "</table>\n",
       "</div>"
      ],
      "text/plain": [
       "    Cupo_TC  DEUDA_MES_t-0  DEUDA_MES_t-1  DEUDA_MES_t-2  DEUDA_MES_t-3  \\\n",
       "0    270000         322249         298700         308133         263516   \n",
       "7     20000          19149          20221          19812          10717   \n",
       "19    50000          44470          51192          48506          18524   \n",
       "37    60000          60745          61085          56863          18473   \n",
       "43    20000          20571          19089          19658          19453   \n",
       "\n",
       "    DEUDA_MES_t-4  DEUDA_MES_t-5  PAGO_MES_t-0  PAGO_MES_t-1  PAGO_MES_t-2  \\\n",
       "0           94062          92618         10000         13000         12000   \n",
       "7           13534          15298          1392          1201          1000   \n",
       "19          19239          19283          7800           173          1000   \n",
       "37          15434           7301          2613          5900          1000   \n",
       "43          19108          18868          1323          1600           830   \n",
       "\n",
       "    PAGO_MES_t-3  PAGO_MES_t-4  PAGO_MES_t-5  \n",
       "0           5000          4000          5000  \n",
       "7           3000          2000           399  \n",
       "19          1000          1000          1000  \n",
       "37           428          1000          2000  \n",
       "43           700           674           376  "
      ]
     },
     "execution_count": 169,
     "metadata": {},
     "output_type": "execute_result"
    }
   ],
   "source": [
    "# Hallar los registros en los que por lo mens un pago o una deuda supera al cupo\n",
    "condition = money_df.iloc[:, 1:].gt(money_df['Cupo_TC'], axis=0).any(axis=1)\n",
    "money_incosistente = money_df[condition]\n",
    "money_incosistente.head()"
   ]
  },
  {
   "cell_type": "code",
   "execution_count": 175,
   "metadata": {},
   "outputs": [
    {
     "name": "stdout",
     "output_type": "stream",
     "text": [
      "Hay 3201 clientes con registros monetarios inconsistentes\n"
     ]
    }
   ],
   "source": [
    "print(f\"Hay {len(money_incosistente)} clientes con registros monetarios inconsistentes\")"
   ]
  },
  {
   "attachments": {},
   "cell_type": "markdown",
   "metadata": {},
   "source": [
    "# Variable objetivo"
   ]
  },
  {
   "attachments": {},
   "cell_type": "markdown",
   "metadata": {},
   "source": [
    "La variable objetivo proviene de la tabla de etiquetas. Cada cliente se encuentra etiquetado con $0$ o $1$, donde $0$ significa que el pago el próximo mes será puntual y $1$ quiere decir que el cliente no va a pagar su deuda de la tarjeta de crédito el próximo mes."
   ]
  },
  {
   "cell_type": "code",
   "execution_count": 178,
   "metadata": {},
   "outputs": [
    {
     "data": {
      "image/png": "[encoded data removed]",
      "text/plain": [
       "<Figure size 640x480 with 1 Axes>"
      ]
     },
     "metadata": {},
     "output_type": "display_data"
    }
   ],
   "source": [
    "# Proporción \n",
    "sns.countplot(etiquetas, x=\"default payment next month\")\n",
    "plt.ylabel(\"Cantidad de clientes\")\n",
    "plt.xlabel(\"Impago próximo mes\")\n",
    "plt.title(\"Cantidad de impagos para el próximo mes\")\n",
    "plt.show()"
   ]
  },
  {
   "cell_type": "code",
   "execution_count": 180,
   "metadata": {},
   "outputs": [
    {
     "data": {
      "text/html": [
       "<div>\n",
       "<style scoped>\n",
       "    .dataframe tbody tr th:only-of-type {\n",
       "        vertical-align: middle;\n",
       "    }\n",
       "\n",
       "    .dataframe tbody tr th {\n",
       "        vertical-align: top;\n",
       "    }\n",
       "\n",
       "    .dataframe thead th {\n",
       "        text-align: right;\n",
       "    }\n",
       "</style>\n",
       "<table border=\"1\" class=\"dataframe\">\n",
       "  <thead>\n",
       "    <tr style=\"text-align: right;\">\n",
       "      <th></th>\n",
       "      <th>cantidad</th>\n",
       "      <th>proporcion</th>\n",
       "    </tr>\n",
       "    <tr>\n",
       "      <th>default payment next month</th>\n",
       "      <th></th>\n",
       "      <th></th>\n",
       "    </tr>\n",
       "  </thead>\n",
       "  <tbody>\n",
       "    <tr>\n",
       "      <th>0</th>\n",
       "      <td>18715</td>\n",
       "      <td>0.779792</td>\n",
       "    </tr>\n",
       "    <tr>\n",
       "      <th>1</th>\n",
       "      <td>5285</td>\n",
       "      <td>0.220208</td>\n",
       "    </tr>\n",
       "  </tbody>\n",
       "</table>\n",
       "</div>"
      ],
      "text/plain": [
       "                            cantidad  proporcion\n",
       "default payment next month                      \n",
       "0                              18715    0.779792\n",
       "1                               5285    0.220208"
      ]
     },
     "execution_count": 180,
     "metadata": {},
     "output_type": "execute_result"
    }
   ],
   "source": [
    "next_pay_summary = etiquetas.groupby(\"default payment next month\").count()\n",
    "next_pay_summary = next_pay_summary.rename(columns={\"CLIENT_ID\":\"cantidad\"})\n",
    "next_pay_summary[\"proporcion\"] = next_pay_summary[\"cantidad\"] /   next_pay_summary[\"cantidad\"].sum()\n",
    "next_pay_summary"
   ]
  },
  {
   "attachments": {},
   "cell_type": "markdown",
   "metadata": {},
   "source": [
    "Se presenta un desbalance de clase, ya que el 78% de los deudores pagarán cumplido el siguiente mes y el 22% presentarán mora. Este desequilibrio de clases representa una gran dificultad a la hora construir el modelo predictivo, por tal razón, se deben usar técnicas para manejarlo."
   ]
  },
  {
   "attachments": {},
   "cell_type": "markdown",
   "metadata": {},
   "source": [
    "# Resumen"
   ]
  },
  {
   "attachments": {},
   "cell_type": "markdown",
   "metadata": {},
   "source": [
    "| **Campo**                            | **Descripción**                                                                                                                                | **Comentario**                                                                           |\n",
    "|--------------------------------------|------------------------------------------------------------------------------------------------------------------------------------------------|------------------------------------------------------------------------------------------|\n",
    "| CLIENT_ID                            | Identificador único para cada cliente.                                                                                |    Se usa para unir tablas                                                                                      |\n",
    "| Cupo_TC (int)                        | Cupo inicial de la tarjeta de crédito.                                                                                                         | No presenta datos inconsistentes                                                         |\n",
    "| SEX (nominal)                        | Sexo biológico del cliente.  <br>Categorías: Masculino , Femenino                                                                                  | No presenta datos inconsistentes                                                         |\n",
    "| EDUCATION (nominal)                  | Nivel de escolaridad del cliente <br>Categorías: colegio, universidad, posgrado, otro                                                              | Valores inconsistentes \"0\",\"5\",\"6\"                                                       |\n",
    "| MARRIAGE (nominal)                   | Estado civil del cliente <br>Categorías: soltero_a, casado, otro                                                                                   | Valores inconsistentes  \"0\"                                                              |\n",
    "| AGE (int)                            | Edad del cliente                                                                                                                               | No presenta valores inconsistentes                                                       |\n",
    "| RETRASO_PAGO_ESTADO (int)            | Variable numérica ordinal <br>Serie de tiempo mensual de 6 observaciones para cada cliente <br>Valores: -2, -1 , 0, 1, 2, 3, 4, 5, 6, 7, 8             | No presenta valores inconsistentes                                                       |\n",
    "| PAGO_MES (int)                       | Variable entera, representa el monto pagado en un mes determinado <br>Serie de tiempo mensual de 6 observaciones para cada cliente                 | Pagos inconsistentes que  superan el valor del cupo                                      |\n",
    "| DEUDA_MES (int)                      | Variable entera, representa el monto que un cliente  adeuda en un mes determinado <br> Serie de tiempo mensual de 6 observaciones para cada cliente | - Montos inconsistentes que  superan el valor del cupo <br>- Montos negativos inconsistentes |\n",
    "| default payment next month (binaria) | Variable objetivo binaria, 1 para impago.                                                                                                      | Existe un gran desbalance de clase                                                       |"
   ]
  },
  {
   "attachments": {},
   "cell_type": "markdown",
   "metadata": {},
   "source": [
    "- Se eliminarán todos los registros que contengan por lo menos un valor inconsistente en alguna columna. Se descarta la imputación de datos en lugar de valores inconsistentes ya que estos registros representan un pequeño porcentaje de la muestra.\n",
    "- Existe un importante desbalance de clase importante en la variable objetivo, para ellos se propone usar tres técnicas distintas: Validación cruzada estratificada, imputación de datos (oversampling) y eliminación de datos (undersampling)."
   ]
  }
 ],
 "metadata": {
  "kernelspec": {
   "display_name": "venv",
   "language": "python",
   "name": "python3"
  },
  "language_info": {
   "codemirror_mode": {
    "name": "ipython",
    "version": 3
   },
   "file_extension": ".py",
   "mimetype": "text/x-python",
   "name": "python",
   "nbconvert_exporter": "python",
   "pygments_lexer": "ipython3",
   "version": "3.11.3"
  },
  "orig_nbformat": 4
 },
 "nbformat": 4,
 "nbformat_minor": 2
}
