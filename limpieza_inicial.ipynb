{
 "cells": [
  {
   "attachments": {},
   "cell_type": "markdown",
   "metadata": {},
   "source": [
    "# Limpieza inicial\n",
    "En este notebook se realiza una limpieza inicial de los registros que presentan inconsistencias en algún campo. Las inconsistencias se detallan en el análisis exploratorio.\n",
    "\n",
    " En general los criterios de eliminación son: \n",
    "- Categorías en variables socio-económicas inexistentes.\n",
    "- Montos de deuda negativos.\n",
    "- Montos de pagos y deudas mayores al cupo de la tarjeta."
   ]
  },
  {
   "cell_type": "code",
   "execution_count": 1,
   "metadata": {},
   "outputs": [],
   "source": [
    "import pandas as pd"
   ]
  },
  {
   "cell_type": "code",
   "execution_count": 2,
   "metadata": {},
   "outputs": [],
   "source": [
    "# Cagar los datos provenientes de los archivos csv\n",
    "transacciones = pd.read_csv(\"data/historial_transacciones.csv\", delimiter=\"|\")\n",
    "clientes = pd.read_csv(\"data/informacion_clientes.csv\", delimiter=\"|\")\n",
    "etiquetas = pd.read_csv(\"data/etiquetas.csv\", delimiter=\"|\")"
   ]
  },
  {
   "attachments": {},
   "cell_type": "markdown",
   "metadata": {},
   "source": [
    "## Eliminar datos socio económicos inconsistentes"
   ]
  },
  {
   "attachments": {},
   "cell_type": "markdown",
   "metadata": {},
   "source": [
    "| **Campo**                            | **Descripción**                                                                                                                                | **Comentario**                                                                           |\n",
    "|--------------------------------------|------------------------------------------------------------------------------------------------------------------------------------------------|------------------------------------------------------------------------------------------|\n",
    "| SEX (nominal)                        | Sexo biológico del cliente.  <br>Categorías: Masculino , Femenino                                                                                  | No presenta datos inconsistentes                                                         |\n",
    "| EDUCATION (nominal)                  | Nivel de escolaridad del cliente <br>Categorías: colegio, universidad, posgrado, otro                                                              | Valores inconsistentes \"0\",\"5\",\"6\"                                                       |\n",
    "| MARRIAGE (nominal)                   | Estado civil del cliente <br>Categorías: soltero_a, casado, otro                                                                                   | Valores inconsistentes  \"0\"                                                              |\n"
   ]
  },
  {
   "cell_type": "code",
   "execution_count": 3,
   "metadata": {},
   "outputs": [],
   "source": [
    "def limpiar_clientes(df_clientes):\n",
    "\n",
    "    df_limpio = df_clientes.copy()\n",
    "\n",
    "    # Convertir en minúsculas todos los valores de las columnas categóricas\n",
    "    categoricas = [\"EDUCATION\", \"MARRIAGE\", \"SEX\"]\n",
    "    for var in categoricas:\n",
    "        df_limpio[var] = df_limpio[var].map(lambda x: x.lower())\n",
    "\n",
    "    # Eliminar los registros con valores inconsistentes en las columnas categóricas\n",
    "    cat_edu = [\"universidad\", \"colegio\", \"posgrado\", \"otro\"]\n",
    "    cat_marr = [\"casado\", \"soltero_a\", \"otro\"]\n",
    "    df_limpio = df_limpio.query('EDUCATION in @cat_edu and MARRIAGE in @cat_marr').copy()\n",
    "\n",
    "    # Convertir en series de tipo categóricas a las columnas categóricas\n",
    "    for var in categoricas:\n",
    "        df_limpio[var] = df_limpio[var].astype('category')\n",
    "    \n",
    "    # Calcular e imprimir el número de registros eliminados\n",
    "    num_reg_eliminados = len(df_clientes) - len(df_limpio)\n",
    "    print(f\"Se eliminaron {num_reg_eliminados} registros con valores inconsistentes\")\n",
    "\n",
    "    return df_limpio.reset_index(drop=True)"
   ]
  },
  {
   "cell_type": "code",
   "execution_count": 4,
   "metadata": {},
   "outputs": [
    {
     "name": "stdout",
     "output_type": "stream",
     "text": [
      "Se eliminaron 331 registros con valores inconsistentes\n"
     ]
    }
   ],
   "source": [
    "clientes_cleaned = limpiar_clientes(clientes)"
   ]
  },
  {
   "attachments": {},
   "cell_type": "markdown",
   "metadata": {},
   "source": [
    "## Eliminar inconsistencias monetarias"
   ]
  },
  {
   "attachments": {},
   "cell_type": "markdown",
   "metadata": {},
   "source": [
    "Se eliminan registros que contengas montos negativos de deudas en algún mes y montos de pagos o deudas que superen al cupo inicial de la tarjeta"
   ]
  },
  {
   "cell_type": "code",
   "execution_count": 5,
   "metadata": {},
   "outputs": [],
   "source": [
    "def transformar_transacciones(transacciones):\n",
    "    df = transacciones.copy()\n",
    "\n",
    "    # Cambiar el número del mes por etiquetas temporales de la forma t-i\n",
    "    month_map = {9-i: f't-{i}' for i in range(6)}\n",
    "    df[\"MONTH\"] = df[\"MONTH\"].map(month_map)\n",
    "\n",
    "    # Transponer las observaciones temporales\n",
    "    df = pd.pivot(df, index=\"CLIENT_ID\", columns=\"MONTH\")\n",
    "\n",
    "    # Eliminar el multíndice generado por la transposición\n",
    "    df.columns = df.columns.to_flat_index()\n",
    "    df.columns = [ f\"{var}_{time_tag}\" for (var, time_tag) in df.columns ]\n",
    "    df = df.reset_index()\n",
    "\n",
    "    return df"
   ]
  },
  {
   "cell_type": "code",
   "execution_count": 6,
   "metadata": {},
   "outputs": [],
   "source": [
    "# Transponer los meses como columnas para cada variable con marca temporal\n",
    "transacciones_transf = transformar_transacciones(transacciones)"
   ]
  },
  {
   "cell_type": "code",
   "execution_count": 7,
   "metadata": {},
   "outputs": [],
   "source": [
    "# Unir la tabla de transacciones y clientes. Se necesita el cupo para identificar los valores monetarios inconsistentes\n",
    "df_modelo = clientes_cleaned.merge(transacciones_transf, on=\"CLIENT_ID\", how=\"inner\") # Solo se traen los registros limpios de la tabla clientes porque es inner-join"
   ]
  },
  {
   "cell_type": "code",
   "execution_count": 8,
   "metadata": {},
   "outputs": [
    {
     "data": {
      "text/plain": [
       "12"
      ]
     },
     "execution_count": 8,
     "metadata": {},
     "output_type": "execute_result"
    }
   ],
   "source": [
    "# Hallar índice de la primera columna que tiene un valor monetario\n",
    "list(df_modelo.columns).index('DEUDA_MES_t-0')"
   ]
  },
  {
   "cell_type": "code",
   "execution_count": 9,
   "metadata": {},
   "outputs": [],
   "source": [
    "# Condición para identificar registros con por lo menos un pago o deuda mayor al cupo\n",
    "superar_cupo = df_modelo.iloc[:, 12:].gt(df_modelo['Cupo_TC'], axis=0).any(axis=1)\n",
    "# Eliminar registros con inconsistencias monetarias\n",
    "df_modelo = df_modelo[~superar_cupo]\n",
    "\n",
    "# Identificar registro con por lo menos un monto negativo de pago o deuda \n",
    "trans_negativa =  (df_modelo.iloc[:, 12:]<0).any(axis=1)\n",
    "df_modelo = df_modelo[~trans_negativa]"
   ]
  },
  {
   "cell_type": "code",
   "execution_count": 10,
   "metadata": {},
   "outputs": [
    {
     "name": "stdout",
     "output_type": "stream",
     "text": [
      "Se eliminaron en total 4905 registros con datos inconsistentes.\n",
      "Lo que respresenta un 20.44% de la muestra\n"
     ]
    }
   ],
   "source": [
    "reg_eliminados = len(clientes) - len(df_modelo)\n",
    "prop_inconsistentes = reg_eliminados / len(clientes)\n",
    "print(\"Se eliminaron en total {} registros con datos inconsistentes.\\nLo que respresenta un {:.2%} de la muestra\".format(reg_eliminados, prop_inconsistentes))"
   ]
  },
  {
   "attachments": {},
   "cell_type": "markdown",
   "metadata": {},
   "source": [
    "## Unir tablas"
   ]
  },
  {
   "cell_type": "code",
   "execution_count": 11,
   "metadata": {},
   "outputs": [],
   "source": [
    "# Traer etiquetas\n",
    "df_modelo = df_modelo.merge(etiquetas, on=\"CLIENT_ID\", how=\"inner\")\n",
    "# Eliminar la columna Id ya que ahora no es necesaria\n",
    "df_modelo = df_modelo.drop(columns=\"CLIENT_ID\")"
   ]
  },
  {
   "cell_type": "code",
   "execution_count": 12,
   "metadata": {},
   "outputs": [
    {
     "data": {
      "text/html": [
       "<div>\n",
       "<style scoped>\n",
       "    .dataframe tbody tr th:only-of-type {\n",
       "        vertical-align: middle;\n",
       "    }\n",
       "\n",
       "    .dataframe tbody tr th {\n",
       "        vertical-align: top;\n",
       "    }\n",
       "\n",
       "    .dataframe thead th {\n",
       "        text-align: right;\n",
       "    }\n",
       "</style>\n",
       "<table border=\"1\" class=\"dataframe\">\n",
       "  <thead>\n",
       "    <tr style=\"text-align: right;\">\n",
       "      <th></th>\n",
       "      <th>Cupo_TC</th>\n",
       "      <th>SEX</th>\n",
       "      <th>EDUCATION</th>\n",
       "      <th>MARRIAGE</th>\n",
       "      <th>AGE</th>\n",
       "      <th>RETRASO_PAGO_ESTADO_t-0</th>\n",
       "      <th>RETRASO_PAGO_ESTADO_t-1</th>\n",
       "      <th>RETRASO_PAGO_ESTADO_t-2</th>\n",
       "      <th>RETRASO_PAGO_ESTADO_t-3</th>\n",
       "      <th>RETRASO_PAGO_ESTADO_t-4</th>\n",
       "      <th>...</th>\n",
       "      <th>DEUDA_MES_t-3</th>\n",
       "      <th>DEUDA_MES_t-4</th>\n",
       "      <th>DEUDA_MES_t-5</th>\n",
       "      <th>PAGO_MES_t-0</th>\n",
       "      <th>PAGO_MES_t-1</th>\n",
       "      <th>PAGO_MES_t-2</th>\n",
       "      <th>PAGO_MES_t-3</th>\n",
       "      <th>PAGO_MES_t-4</th>\n",
       "      <th>PAGO_MES_t-5</th>\n",
       "      <th>default payment next month</th>\n",
       "    </tr>\n",
       "  </thead>\n",
       "  <tbody>\n",
       "    <tr>\n",
       "      <th>0</th>\n",
       "      <td>80000</td>\n",
       "      <td>femenino</td>\n",
       "      <td>colegio</td>\n",
       "      <td>soltero_a</td>\n",
       "      <td>52</td>\n",
       "      <td>0</td>\n",
       "      <td>0</td>\n",
       "      <td>0</td>\n",
       "      <td>0</td>\n",
       "      <td>0</td>\n",
       "      <td>...</td>\n",
       "      <td>30470</td>\n",
       "      <td>18306</td>\n",
       "      <td>7432</td>\n",
       "      <td>1623</td>\n",
       "      <td>1740</td>\n",
       "      <td>1200</td>\n",
       "      <td>366</td>\n",
       "      <td>7432</td>\n",
       "      <td>0</td>\n",
       "      <td>0</td>\n",
       "    </tr>\n",
       "    <tr>\n",
       "      <th>1</th>\n",
       "      <td>210000</td>\n",
       "      <td>femenino</td>\n",
       "      <td>universidad</td>\n",
       "      <td>casado</td>\n",
       "      <td>36</td>\n",
       "      <td>0</td>\n",
       "      <td>0</td>\n",
       "      <td>0</td>\n",
       "      <td>0</td>\n",
       "      <td>0</td>\n",
       "      <td>...</td>\n",
       "      <td>148190</td>\n",
       "      <td>147993</td>\n",
       "      <td>131629</td>\n",
       "      <td>6483</td>\n",
       "      <td>5082</td>\n",
       "      <td>6000</td>\n",
       "      <td>5900</td>\n",
       "      <td>4544</td>\n",
       "      <td>4700</td>\n",
       "      <td>0</td>\n",
       "    </tr>\n",
       "    <tr>\n",
       "      <th>2</th>\n",
       "      <td>230000</td>\n",
       "      <td>femenino</td>\n",
       "      <td>colegio</td>\n",
       "      <td>casado</td>\n",
       "      <td>44</td>\n",
       "      <td>-1</td>\n",
       "      <td>-1</td>\n",
       "      <td>-1</td>\n",
       "      <td>-1</td>\n",
       "      <td>-1</td>\n",
       "      <td>...</td>\n",
       "      <td>6222</td>\n",
       "      <td>15121</td>\n",
       "      <td>17425</td>\n",
       "      <td>11632</td>\n",
       "      <td>4987</td>\n",
       "      <td>6222</td>\n",
       "      <td>15121</td>\n",
       "      <td>17425</td>\n",
       "      <td>17007</td>\n",
       "      <td>0</td>\n",
       "    </tr>\n",
       "    <tr>\n",
       "      <th>3</th>\n",
       "      <td>130000</td>\n",
       "      <td>femenino</td>\n",
       "      <td>posgrado</td>\n",
       "      <td>casado</td>\n",
       "      <td>36</td>\n",
       "      <td>0</td>\n",
       "      <td>0</td>\n",
       "      <td>0</td>\n",
       "      <td>0</td>\n",
       "      <td>0</td>\n",
       "      <td>...</td>\n",
       "      <td>94623</td>\n",
       "      <td>90556</td>\n",
       "      <td>92394</td>\n",
       "      <td>5000</td>\n",
       "      <td>4400</td>\n",
       "      <td>5000</td>\n",
       "      <td>4000</td>\n",
       "      <td>3500</td>\n",
       "      <td>4000</td>\n",
       "      <td>0</td>\n",
       "    </tr>\n",
       "    <tr>\n",
       "      <th>4</th>\n",
       "      <td>470000</td>\n",
       "      <td>femenino</td>\n",
       "      <td>universidad</td>\n",
       "      <td>casado</td>\n",
       "      <td>35</td>\n",
       "      <td>0</td>\n",
       "      <td>0</td>\n",
       "      <td>0</td>\n",
       "      <td>0</td>\n",
       "      <td>0</td>\n",
       "      <td>...</td>\n",
       "      <td>61500</td>\n",
       "      <td>59563</td>\n",
       "      <td>57368</td>\n",
       "      <td>2505</td>\n",
       "      <td>3000</td>\n",
       "      <td>3016</td>\n",
       "      <td>2200</td>\n",
       "      <td>3000</td>\n",
       "      <td>1600</td>\n",
       "      <td>0</td>\n",
       "    </tr>\n",
       "    <tr>\n",
       "      <th>...</th>\n",
       "      <td>...</td>\n",
       "      <td>...</td>\n",
       "      <td>...</td>\n",
       "      <td>...</td>\n",
       "      <td>...</td>\n",
       "      <td>...</td>\n",
       "      <td>...</td>\n",
       "      <td>...</td>\n",
       "      <td>...</td>\n",
       "      <td>...</td>\n",
       "      <td>...</td>\n",
       "      <td>...</td>\n",
       "      <td>...</td>\n",
       "      <td>...</td>\n",
       "      <td>...</td>\n",
       "      <td>...</td>\n",
       "      <td>...</td>\n",
       "      <td>...</td>\n",
       "      <td>...</td>\n",
       "      <td>...</td>\n",
       "      <td>...</td>\n",
       "    </tr>\n",
       "    <tr>\n",
       "      <th>19090</th>\n",
       "      <td>280000</td>\n",
       "      <td>masculino</td>\n",
       "      <td>universidad</td>\n",
       "      <td>soltero_a</td>\n",
       "      <td>45</td>\n",
       "      <td>0</td>\n",
       "      <td>0</td>\n",
       "      <td>-1</td>\n",
       "      <td>0</td>\n",
       "      <td>0</td>\n",
       "      <td>...</td>\n",
       "      <td>136249</td>\n",
       "      <td>111454</td>\n",
       "      <td>96425</td>\n",
       "      <td>7000</td>\n",
       "      <td>208141</td>\n",
       "      <td>5003</td>\n",
       "      <td>5002</td>\n",
       "      <td>5000</td>\n",
       "      <td>3000</td>\n",
       "      <td>0</td>\n",
       "    </tr>\n",
       "    <tr>\n",
       "      <th>19091</th>\n",
       "      <td>180000</td>\n",
       "      <td>femenino</td>\n",
       "      <td>universidad</td>\n",
       "      <td>casado</td>\n",
       "      <td>46</td>\n",
       "      <td>1</td>\n",
       "      <td>2</td>\n",
       "      <td>0</td>\n",
       "      <td>0</td>\n",
       "      <td>0</td>\n",
       "      <td>...</td>\n",
       "      <td>26574</td>\n",
       "      <td>23123</td>\n",
       "      <td>30680</td>\n",
       "      <td>1711</td>\n",
       "      <td>1300</td>\n",
       "      <td>7504</td>\n",
       "      <td>1123</td>\n",
       "      <td>13000</td>\n",
       "      <td>0</td>\n",
       "      <td>0</td>\n",
       "    </tr>\n",
       "    <tr>\n",
       "      <th>19092</th>\n",
       "      <td>180000</td>\n",
       "      <td>masculino</td>\n",
       "      <td>universidad</td>\n",
       "      <td>casado</td>\n",
       "      <td>35</td>\n",
       "      <td>1</td>\n",
       "      <td>2</td>\n",
       "      <td>0</td>\n",
       "      <td>0</td>\n",
       "      <td>0</td>\n",
       "      <td>...</td>\n",
       "      <td>33370</td>\n",
       "      <td>33370</td>\n",
       "      <td>0</td>\n",
       "      <td>0</td>\n",
       "      <td>1400</td>\n",
       "      <td>2200</td>\n",
       "      <td>0</td>\n",
       "      <td>0</td>\n",
       "      <td>0</td>\n",
       "      <td>0</td>\n",
       "    </tr>\n",
       "    <tr>\n",
       "      <th>19093</th>\n",
       "      <td>320000</td>\n",
       "      <td>masculino</td>\n",
       "      <td>universidad</td>\n",
       "      <td>soltero_a</td>\n",
       "      <td>30</td>\n",
       "      <td>0</td>\n",
       "      <td>0</td>\n",
       "      <td>0</td>\n",
       "      <td>0</td>\n",
       "      <td>0</td>\n",
       "      <td>...</td>\n",
       "      <td>26875</td>\n",
       "      <td>26318</td>\n",
       "      <td>25880</td>\n",
       "      <td>1353</td>\n",
       "      <td>1224</td>\n",
       "      <td>739</td>\n",
       "      <td>742</td>\n",
       "      <td>751</td>\n",
       "      <td>703</td>\n",
       "      <td>0</td>\n",
       "    </tr>\n",
       "    <tr>\n",
       "      <th>19094</th>\n",
       "      <td>260000</td>\n",
       "      <td>femenino</td>\n",
       "      <td>universidad</td>\n",
       "      <td>soltero_a</td>\n",
       "      <td>40</td>\n",
       "      <td>-1</td>\n",
       "      <td>-1</td>\n",
       "      <td>-2</td>\n",
       "      <td>-2</td>\n",
       "      <td>-2</td>\n",
       "      <td>...</td>\n",
       "      <td>0</td>\n",
       "      <td>0</td>\n",
       "      <td>0</td>\n",
       "      <td>1085</td>\n",
       "      <td>0</td>\n",
       "      <td>0</td>\n",
       "      <td>0</td>\n",
       "      <td>0</td>\n",
       "      <td>300</td>\n",
       "      <td>0</td>\n",
       "    </tr>\n",
       "  </tbody>\n",
       "</table>\n",
       "<p>19095 rows × 24 columns</p>\n",
       "</div>"
      ],
      "text/plain": [
       "       Cupo_TC        SEX    EDUCATION   MARRIAGE  AGE  \\\n",
       "0        80000   femenino      colegio  soltero_a   52   \n",
       "1       210000   femenino  universidad     casado   36   \n",
       "2       230000   femenino      colegio     casado   44   \n",
       "3       130000   femenino     posgrado     casado   36   \n",
       "4       470000   femenino  universidad     casado   35   \n",
       "...        ...        ...          ...        ...  ...   \n",
       "19090   280000  masculino  universidad  soltero_a   45   \n",
       "19091   180000   femenino  universidad     casado   46   \n",
       "19092   180000  masculino  universidad     casado   35   \n",
       "19093   320000  masculino  universidad  soltero_a   30   \n",
       "19094   260000   femenino  universidad  soltero_a   40   \n",
       "\n",
       "       RETRASO_PAGO_ESTADO_t-0  RETRASO_PAGO_ESTADO_t-1  \\\n",
       "0                            0                        0   \n",
       "1                            0                        0   \n",
       "2                           -1                       -1   \n",
       "3                            0                        0   \n",
       "4                            0                        0   \n",
       "...                        ...                      ...   \n",
       "19090                        0                        0   \n",
       "19091                        1                        2   \n",
       "19092                        1                        2   \n",
       "19093                        0                        0   \n",
       "19094                       -1                       -1   \n",
       "\n",
       "       RETRASO_PAGO_ESTADO_t-2  RETRASO_PAGO_ESTADO_t-3  \\\n",
       "0                            0                        0   \n",
       "1                            0                        0   \n",
       "2                           -1                       -1   \n",
       "3                            0                        0   \n",
       "4                            0                        0   \n",
       "...                        ...                      ...   \n",
       "19090                       -1                        0   \n",
       "19091                        0                        0   \n",
       "19092                        0                        0   \n",
       "19093                        0                        0   \n",
       "19094                       -2                       -2   \n",
       "\n",
       "       RETRASO_PAGO_ESTADO_t-4  ...  DEUDA_MES_t-3  DEUDA_MES_t-4  \\\n",
       "0                            0  ...          30470          18306   \n",
       "1                            0  ...         148190         147993   \n",
       "2                           -1  ...           6222          15121   \n",
       "3                            0  ...          94623          90556   \n",
       "4                            0  ...          61500          59563   \n",
       "...                        ...  ...            ...            ...   \n",
       "19090                        0  ...         136249         111454   \n",
       "19091                        0  ...          26574          23123   \n",
       "19092                        0  ...          33370          33370   \n",
       "19093                        0  ...          26875          26318   \n",
       "19094                       -2  ...              0              0   \n",
       "\n",
       "       DEUDA_MES_t-5  PAGO_MES_t-0  PAGO_MES_t-1  PAGO_MES_t-2  PAGO_MES_t-3  \\\n",
       "0               7432          1623          1740          1200           366   \n",
       "1             131629          6483          5082          6000          5900   \n",
       "2              17425         11632          4987          6222         15121   \n",
       "3              92394          5000          4400          5000          4000   \n",
       "4              57368          2505          3000          3016          2200   \n",
       "...              ...           ...           ...           ...           ...   \n",
       "19090          96425          7000        208141          5003          5002   \n",
       "19091          30680          1711          1300          7504          1123   \n",
       "19092              0             0          1400          2200             0   \n",
       "19093          25880          1353          1224           739           742   \n",
       "19094              0          1085             0             0             0   \n",
       "\n",
       "       PAGO_MES_t-4  PAGO_MES_t-5  default payment next month  \n",
       "0              7432             0                           0  \n",
       "1              4544          4700                           0  \n",
       "2             17425         17007                           0  \n",
       "3              3500          4000                           0  \n",
       "4              3000          1600                           0  \n",
       "...             ...           ...                         ...  \n",
       "19090          5000          3000                           0  \n",
       "19091         13000             0                           0  \n",
       "19092             0             0                           0  \n",
       "19093           751           703                           0  \n",
       "19094             0           300                           0  \n",
       "\n",
       "[19095 rows x 24 columns]"
      ]
     },
     "metadata": {},
     "output_type": "display_data"
    }
   ],
   "source": [
    "display(df_modelo)"
   ]
  },
  {
   "attachments": {},
   "cell_type": "markdown",
   "metadata": {},
   "source": [
    "## Desbalance de clase"
   ]
  },
  {
   "cell_type": "code",
   "execution_count": 13,
   "metadata": {},
   "outputs": [
    {
     "data": {
      "text/plain": [
       "default payment next month\n",
       "0    15022\n",
       "1     4073\n",
       "Name: count, dtype: int64"
      ]
     },
     "execution_count": 13,
     "metadata": {},
     "output_type": "execute_result"
    }
   ],
   "source": [
    "df_modelo[\"default payment next month\"].value_counts()"
   ]
  },
  {
   "cell_type": "code",
   "execution_count": 14,
   "metadata": {},
   "outputs": [
    {
     "name": "stdout",
     "output_type": "stream",
     "text": [
      "El porcentaje de impagos el próximo mes es de 21.33%\n"
     ]
    }
   ],
   "source": [
    "prop_desbalance = df_modelo[\"default payment next month\"].value_counts()[1] / len(df_modelo)\n",
    "print(\"El porcentaje de impagos el próximo mes es de {:.2%}\".format(prop_desbalance))"
   ]
  },
  {
   "attachments": {},
   "cell_type": "markdown",
   "metadata": {},
   "source": [
    "El desbalance de clase de la variable objetivo varía un $0.67\\%$"
   ]
  },
  {
   "attachments": {},
   "cell_type": "markdown",
   "metadata": {},
   "source": [
    "## Exportara conjunto de datos limpio"
   ]
  },
  {
   "cell_type": "code",
   "execution_count": 15,
   "metadata": {},
   "outputs": [],
   "source": [
    "df_modelo.to_csv(\"cleaned_data/limpio_inicial.csv\", index=False)"
   ]
  },
  {
   "cell_type": "code",
   "execution_count": null,
   "metadata": {},
   "outputs": [],
   "source": []
  }
 ],
 "metadata": {
  "kernelspec": {
   "display_name": "venv",
   "language": "python",
   "name": "python3"
  },
  "language_info": {
   "codemirror_mode": {
    "name": "ipython",
    "version": 3
   },
   "file_extension": ".py",
   "mimetype": "text/x-python",
   "name": "python",
   "nbconvert_exporter": "python",
   "pygments_lexer": "ipython3",
   "version": "3.11.3"
  },
  "orig_nbformat": 4
 },
 "nbformat": 4,
 "nbformat_minor": 2
}
